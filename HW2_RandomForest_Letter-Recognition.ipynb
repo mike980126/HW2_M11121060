{
 "cells": [
  {
   "cell_type": "code",
   "execution_count": 1,
   "id": "8e26ef58",
   "metadata": {},
   "outputs": [],
   "source": [
    "import numpy as np\n",
    "import matplotlib.pyplot as plt\n",
    "import pandas as pd\n",
    "from sklearn.ensemble import RandomForestRegressor\n",
    "from sklearn.preprocessing import MinMaxScaler\n",
    "from sklearn.model_selection import train_test_split\n",
    "from sklearn import metrics"
   ]
  },
  {
   "cell_type": "code",
   "execution_count": 2,
   "id": "8ae453d5",
   "metadata": {},
   "outputs": [],
   "source": [
    "df = pd.read_csv(\"Letter-Recognition.csv\")"
   ]
  },
  {
   "cell_type": "code",
   "execution_count": 3,
   "id": "ba7ded3a",
   "metadata": {
    "scrolled": true
   },
   "outputs": [
    {
     "data": {
      "text/html": [
       "<div>\n",
       "<style scoped>\n",
       "    .dataframe tbody tr th:only-of-type {\n",
       "        vertical-align: middle;\n",
       "    }\n",
       "\n",
       "    .dataframe tbody tr th {\n",
       "        vertical-align: top;\n",
       "    }\n",
       "\n",
       "    .dataframe thead th {\n",
       "        text-align: right;\n",
       "    }\n",
       "</style>\n",
       "<table border=\"1\" class=\"dataframe\">\n",
       "  <thead>\n",
       "    <tr style=\"text-align: right;\">\n",
       "      <th></th>\n",
       "      <th>Letter</th>\n",
       "      <th>X_horizontal</th>\n",
       "      <th>Y_vertical</th>\n",
       "      <th>Width</th>\n",
       "      <th>Height</th>\n",
       "      <th>Onpix</th>\n",
       "      <th>X-bar</th>\n",
       "      <th>Y-bar</th>\n",
       "      <th>X2bar</th>\n",
       "      <th>Y2bar</th>\n",
       "      <th>XYbar</th>\n",
       "      <th>X2Ybar</th>\n",
       "      <th>XY2bar</th>\n",
       "      <th>X-edge</th>\n",
       "      <th>XegvY</th>\n",
       "      <th>Y-edge</th>\n",
       "      <th>YegvX</th>\n",
       "    </tr>\n",
       "  </thead>\n",
       "  <tbody>\n",
       "    <tr>\n",
       "      <th>0</th>\n",
       "      <td>T</td>\n",
       "      <td>2</td>\n",
       "      <td>8</td>\n",
       "      <td>3</td>\n",
       "      <td>5</td>\n",
       "      <td>1</td>\n",
       "      <td>8</td>\n",
       "      <td>13</td>\n",
       "      <td>0</td>\n",
       "      <td>6</td>\n",
       "      <td>6</td>\n",
       "      <td>10</td>\n",
       "      <td>8</td>\n",
       "      <td>0</td>\n",
       "      <td>8</td>\n",
       "      <td>0</td>\n",
       "      <td>8</td>\n",
       "    </tr>\n",
       "    <tr>\n",
       "      <th>1</th>\n",
       "      <td>I</td>\n",
       "      <td>5</td>\n",
       "      <td>12</td>\n",
       "      <td>3</td>\n",
       "      <td>7</td>\n",
       "      <td>2</td>\n",
       "      <td>10</td>\n",
       "      <td>5</td>\n",
       "      <td>5</td>\n",
       "      <td>4</td>\n",
       "      <td>13</td>\n",
       "      <td>3</td>\n",
       "      <td>9</td>\n",
       "      <td>2</td>\n",
       "      <td>8</td>\n",
       "      <td>4</td>\n",
       "      <td>10</td>\n",
       "    </tr>\n",
       "    <tr>\n",
       "      <th>2</th>\n",
       "      <td>D</td>\n",
       "      <td>4</td>\n",
       "      <td>11</td>\n",
       "      <td>6</td>\n",
       "      <td>8</td>\n",
       "      <td>6</td>\n",
       "      <td>10</td>\n",
       "      <td>6</td>\n",
       "      <td>2</td>\n",
       "      <td>6</td>\n",
       "      <td>10</td>\n",
       "      <td>3</td>\n",
       "      <td>7</td>\n",
       "      <td>3</td>\n",
       "      <td>7</td>\n",
       "      <td>3</td>\n",
       "      <td>9</td>\n",
       "    </tr>\n",
       "    <tr>\n",
       "      <th>3</th>\n",
       "      <td>N</td>\n",
       "      <td>7</td>\n",
       "      <td>11</td>\n",
       "      <td>6</td>\n",
       "      <td>6</td>\n",
       "      <td>3</td>\n",
       "      <td>5</td>\n",
       "      <td>9</td>\n",
       "      <td>4</td>\n",
       "      <td>6</td>\n",
       "      <td>4</td>\n",
       "      <td>4</td>\n",
       "      <td>10</td>\n",
       "      <td>6</td>\n",
       "      <td>10</td>\n",
       "      <td>2</td>\n",
       "      <td>8</td>\n",
       "    </tr>\n",
       "    <tr>\n",
       "      <th>4</th>\n",
       "      <td>G</td>\n",
       "      <td>2</td>\n",
       "      <td>1</td>\n",
       "      <td>3</td>\n",
       "      <td>1</td>\n",
       "      <td>1</td>\n",
       "      <td>8</td>\n",
       "      <td>6</td>\n",
       "      <td>6</td>\n",
       "      <td>6</td>\n",
       "      <td>6</td>\n",
       "      <td>5</td>\n",
       "      <td>9</td>\n",
       "      <td>1</td>\n",
       "      <td>7</td>\n",
       "      <td>5</td>\n",
       "      <td>10</td>\n",
       "    </tr>\n",
       "    <tr>\n",
       "      <th>...</th>\n",
       "      <td>...</td>\n",
       "      <td>...</td>\n",
       "      <td>...</td>\n",
       "      <td>...</td>\n",
       "      <td>...</td>\n",
       "      <td>...</td>\n",
       "      <td>...</td>\n",
       "      <td>...</td>\n",
       "      <td>...</td>\n",
       "      <td>...</td>\n",
       "      <td>...</td>\n",
       "      <td>...</td>\n",
       "      <td>...</td>\n",
       "      <td>...</td>\n",
       "      <td>...</td>\n",
       "      <td>...</td>\n",
       "      <td>...</td>\n",
       "    </tr>\n",
       "    <tr>\n",
       "      <th>19995</th>\n",
       "      <td>D</td>\n",
       "      <td>2</td>\n",
       "      <td>2</td>\n",
       "      <td>3</td>\n",
       "      <td>3</td>\n",
       "      <td>2</td>\n",
       "      <td>7</td>\n",
       "      <td>7</td>\n",
       "      <td>7</td>\n",
       "      <td>6</td>\n",
       "      <td>6</td>\n",
       "      <td>6</td>\n",
       "      <td>4</td>\n",
       "      <td>2</td>\n",
       "      <td>8</td>\n",
       "      <td>3</td>\n",
       "      <td>7</td>\n",
       "    </tr>\n",
       "    <tr>\n",
       "      <th>19996</th>\n",
       "      <td>C</td>\n",
       "      <td>7</td>\n",
       "      <td>10</td>\n",
       "      <td>8</td>\n",
       "      <td>8</td>\n",
       "      <td>4</td>\n",
       "      <td>4</td>\n",
       "      <td>8</td>\n",
       "      <td>6</td>\n",
       "      <td>9</td>\n",
       "      <td>12</td>\n",
       "      <td>9</td>\n",
       "      <td>13</td>\n",
       "      <td>2</td>\n",
       "      <td>9</td>\n",
       "      <td>3</td>\n",
       "      <td>7</td>\n",
       "    </tr>\n",
       "    <tr>\n",
       "      <th>19997</th>\n",
       "      <td>T</td>\n",
       "      <td>6</td>\n",
       "      <td>9</td>\n",
       "      <td>6</td>\n",
       "      <td>7</td>\n",
       "      <td>5</td>\n",
       "      <td>6</td>\n",
       "      <td>11</td>\n",
       "      <td>3</td>\n",
       "      <td>7</td>\n",
       "      <td>11</td>\n",
       "      <td>9</td>\n",
       "      <td>5</td>\n",
       "      <td>2</td>\n",
       "      <td>12</td>\n",
       "      <td>2</td>\n",
       "      <td>4</td>\n",
       "    </tr>\n",
       "    <tr>\n",
       "      <th>19998</th>\n",
       "      <td>S</td>\n",
       "      <td>2</td>\n",
       "      <td>3</td>\n",
       "      <td>4</td>\n",
       "      <td>2</td>\n",
       "      <td>1</td>\n",
       "      <td>8</td>\n",
       "      <td>7</td>\n",
       "      <td>2</td>\n",
       "      <td>6</td>\n",
       "      <td>10</td>\n",
       "      <td>6</td>\n",
       "      <td>8</td>\n",
       "      <td>1</td>\n",
       "      <td>9</td>\n",
       "      <td>5</td>\n",
       "      <td>8</td>\n",
       "    </tr>\n",
       "    <tr>\n",
       "      <th>19999</th>\n",
       "      <td>A</td>\n",
       "      <td>4</td>\n",
       "      <td>9</td>\n",
       "      <td>6</td>\n",
       "      <td>6</td>\n",
       "      <td>2</td>\n",
       "      <td>9</td>\n",
       "      <td>5</td>\n",
       "      <td>3</td>\n",
       "      <td>1</td>\n",
       "      <td>8</td>\n",
       "      <td>1</td>\n",
       "      <td>8</td>\n",
       "      <td>2</td>\n",
       "      <td>7</td>\n",
       "      <td>2</td>\n",
       "      <td>8</td>\n",
       "    </tr>\n",
       "  </tbody>\n",
       "</table>\n",
       "<p>20000 rows × 17 columns</p>\n",
       "</div>"
      ],
      "text/plain": [
       "      Letter  X_horizontal  Y_vertical  Width  Height  Onpix  X-bar  Y-bar  \\\n",
       "0          T             2           8      3       5      1      8     13   \n",
       "1          I             5          12      3       7      2     10      5   \n",
       "2          D             4          11      6       8      6     10      6   \n",
       "3          N             7          11      6       6      3      5      9   \n",
       "4          G             2           1      3       1      1      8      6   \n",
       "...      ...           ...         ...    ...     ...    ...    ...    ...   \n",
       "19995      D             2           2      3       3      2      7      7   \n",
       "19996      C             7          10      8       8      4      4      8   \n",
       "19997      T             6           9      6       7      5      6     11   \n",
       "19998      S             2           3      4       2      1      8      7   \n",
       "19999      A             4           9      6       6      2      9      5   \n",
       "\n",
       "       X2bar  Y2bar  XYbar  X2Ybar  XY2bar  X-edge  XegvY  Y-edge  YegvX  \n",
       "0          0      6      6      10       8       0      8       0      8  \n",
       "1          5      4     13       3       9       2      8       4     10  \n",
       "2          2      6     10       3       7       3      7       3      9  \n",
       "3          4      6      4       4      10       6     10       2      8  \n",
       "4          6      6      6       5       9       1      7       5     10  \n",
       "...      ...    ...    ...     ...     ...     ...    ...     ...    ...  \n",
       "19995      7      6      6       6       4       2      8       3      7  \n",
       "19996      6      9     12       9      13       2      9       3      7  \n",
       "19997      3      7     11       9       5       2     12       2      4  \n",
       "19998      2      6     10       6       8       1      9       5      8  \n",
       "19999      3      1      8       1       8       2      7       2      8  \n",
       "\n",
       "[20000 rows x 17 columns]"
      ]
     },
     "execution_count": 3,
     "metadata": {},
     "output_type": "execute_result"
    }
   ],
   "source": [
    "df"
   ]
  },
  {
   "cell_type": "markdown",
   "id": "c71981d2",
   "metadata": {},
   "source": [
    "### 資料前處理"
   ]
  },
  {
   "cell_type": "code",
   "execution_count": 4,
   "id": "f5551cf0",
   "metadata": {},
   "outputs": [
    {
     "name": "stdout",
     "output_type": "stream",
     "text": [
      "      Letter  X_horizontal  Y_vertical  Width  Height  Onpix  X-bar  Y-bar  \\\n",
      "0          T             2           8      3       5      1      8     13   \n",
      "1          I             5          12      3       7      2     10      5   \n",
      "2          D             4          11      6       8      6     10      6   \n",
      "3          N             7          11      6       6      3      5      9   \n",
      "4          G             2           1      3       1      1      8      6   \n",
      "...      ...           ...         ...    ...     ...    ...    ...    ...   \n",
      "19995      D             2           2      3       3      2      7      7   \n",
      "19996      C             7          10      8       8      4      4      8   \n",
      "19997      T             6           9      6       7      5      6     11   \n",
      "19998      S             2           3      4       2      1      8      7   \n",
      "19999      A             4           9      6       6      2      9      5   \n",
      "\n",
      "       X2bar  Y2bar  XYbar  X2Ybar  XY2bar  X-edge  XegvY  Y-edge  YegvX  \\\n",
      "0          0      6      6      10       8       0      8       0      8   \n",
      "1          5      4     13       3       9       2      8       4     10   \n",
      "2          2      6     10       3       7       3      7       3      9   \n",
      "3          4      6      4       4      10       6     10       2      8   \n",
      "4          6      6      6       5       9       1      7       5     10   \n",
      "...      ...    ...    ...     ...     ...     ...    ...     ...    ...   \n",
      "19995      7      6      6       6       4       2      8       3      7   \n",
      "19996      6      9     12       9      13       2      9       3      7   \n",
      "19997      3      7     11       9       5       2     12       2      4   \n",
      "19998      2      6     10       6       8       1      9       5      8   \n",
      "19999      3      1      8       1       8       2      7       2      8   \n",
      "\n",
      "       Class  \n",
      "0         20  \n",
      "1          9  \n",
      "2          4  \n",
      "3         14  \n",
      "4          7  \n",
      "...      ...  \n",
      "19995      4  \n",
      "19996      3  \n",
      "19997     20  \n",
      "19998     19  \n",
      "19999      1  \n",
      "\n",
      "[20000 rows x 18 columns]\n",
      "Check missin data(NAN mount): 0\n"
     ]
    }
   ],
   "source": [
    "df_drop = df.dropna()\n",
    "\n",
    "label_map = {'A':1,'B':2,'C':3,'D':4,'E':5,'F':6,'G':7,'H':8,'I':9,'J':10,'K':11,'L':12,'M':13,'N':14,'O':15,'P':16,'Q':17,'R':18,'S':19,'T':20,'U':21,'V':22,'W':23,'X':24,'Y':25,'Z':26}\n",
    "df_drop['Class'] = df_drop['Letter'].map(label_map)\n",
    "data_le = df_drop\n",
    "\n",
    "print(data_le)\n",
    "data_le1 = data_le.drop(labels=['Letter'],axis=1).values\n",
    "print(\"Check missin data(NAN mount):\", len(np.where(np.isnan(data_le1))[0]))\n",
    "\n",
    "#引用來源 https://www.youtube.com/watch?v=1epy1EKVDkc"
   ]
  },
  {
   "cell_type": "markdown",
   "id": "51d6c126",
   "metadata": {},
   "source": [
    "### MinMax正規化"
   ]
  },
  {
   "cell_type": "code",
   "execution_count": 5,
   "id": "04c3b6b4",
   "metadata": {},
   "outputs": [
    {
     "name": "stdout",
     "output_type": "stream",
     "text": [
      "資料集 df1 的平均值:\n",
      " [4.02355 7.0355  5.12185 5.37245 3.50585 6.8976  7.50045 4.6286  5.17865\n",
      " 8.28205 6.454   7.929   3.0461  8.33885 3.69175 7.8012 ]\n",
      "資料集 df1 的標準差:\n",
      " [1.91316371 3.30447269 2.01452292 2.2613339  2.19040311 2.02598476\n",
      " 2.32529564 2.69990038 2.38076336 2.48841271 2.63100437 2.08056699\n",
      " 2.33248254 1.54668377 2.56700836 1.61742962]\n",
      "標準化後 資料集 df1 的平均值:\n",
      " [0.26823667 0.46903333 0.34145667 0.35816333 0.23372333 0.45984\n",
      " 0.50003    0.30857333 0.34524333 0.55213667 0.43026667 0.5286\n",
      " 0.20307333 0.55592333 0.24611667 0.52008   ]\n",
      "標準化後 資料集 df1 的標準差:\n",
      " [0.12754425 0.22029818 0.13430153 0.15075559 0.14602687 0.13506565\n",
      " 0.15501971 0.17999336 0.15871756 0.16589418 0.17540029 0.13870447\n",
      " 0.15549884 0.10311225 0.17113389 0.10782864]\n"
     ]
    }
   ],
   "source": [
    "y = data_le['Class'].values\n",
    "df1= data_le.drop(labels=['Letter','Class'],axis=1)\n",
    "scaler = MinMaxScaler(feature_range=(0,1)).fit(df1)\n",
    "x = scaler.transform(df1)\n",
    "\n",
    "print('資料集 df1 的平均值:\\n',df1.values.mean(axis=0))\n",
    "print('資料集 df1 的標準差:\\n',df1.values.std(axis=0))\n",
    "\n",
    "print('標準化後 資料集 df1 的平均值:\\n', x.mean(axis=0))\n",
    "print('標準化後 資料集 df1 的標準差:\\n', x.std(axis=0))\n",
    "\n",
    "#引用來源 https://www.youtube.com/watch?v=P42GqxCXkY8"
   ]
  },
  {
   "cell_type": "markdown",
   "id": "a95c22ac",
   "metadata": {},
   "source": [
    "### 拆分訓練集&測試集"
   ]
  },
  {
   "cell_type": "code",
   "execution_count": 6,
   "id": "2d440c1d",
   "metadata": {},
   "outputs": [],
   "source": [
    "x_train,x_test,y_train,y_test = train_test_split(x,y,test_size=0.2, random_state=42)\n",
    "#Data拆80% & 20%至Training & Testing"
   ]
  },
  {
   "cell_type": "markdown",
   "id": "57d13899",
   "metadata": {},
   "source": [
    "### RandomForest迴歸器"
   ]
  },
  {
   "cell_type": "code",
   "execution_count": 7,
   "id": "3d4f6eb2",
   "metadata": {},
   "outputs": [
    {
     "name": "stdout",
     "output_type": "stream",
     "text": [
      "MAE= 1.1281   MAPE= 0.1852   RSME= 2.3586\n"
     ]
    }
   ],
   "source": [
    "randomForestModel_check = RandomForestRegressor(n_estimators=100, criterion='squared_error')\n",
    "randomForestModel_check.fit(x_train,y_train)\n",
    "predicted_check = randomForestModel_check.predict(x_test)\n",
    "\n",
    "mae = '%.4f'%metrics.mean_absolute_error(y_test, predicted_check)\n",
    "mape = '%.4f'%metrics.mean_absolute_percentage_error(y_test, predicted_check)\n",
    "rmse = '%.4f'%metrics.mean_squared_error(y_test, predicted_check, squared=False)\n",
    "\n",
    "print('MAE=', mae, '  MAPE=', mape, '  RSME=', rmse)"
   ]
  },
  {
   "cell_type": "markdown",
   "id": "3dca365f",
   "metadata": {},
   "source": [
    "### 特徵重要性"
   ]
  },
  {
   "cell_type": "code",
   "execution_count": 8,
   "id": "97f09983",
   "metadata": {},
   "outputs": [
    {
     "name": "stdout",
     "output_type": "stream",
     "text": [
      "Feature: 0, Score: 0.0190\n",
      "Feature: 1, Score: 0.0174\n",
      "Feature: 2, Score: 0.0100\n",
      "Feature: 3, Score: 0.0136\n",
      "Feature: 4, Score: 0.0169\n",
      "Feature: 5, Score: 0.0378\n",
      "Feature: 6, Score: 0.0254\n",
      "Feature: 7, Score: 0.0846\n",
      "Feature: 8, Score: 0.1528\n",
      "Feature: 9, Score: 0.0473\n",
      "Feature: 10, Score: 0.1697\n",
      "Feature: 11, Score: 0.1159\n",
      "Feature: 12, Score: 0.0709\n",
      "Feature: 13, Score: 0.0815\n",
      "Feature: 14, Score: 0.0898\n",
      "Feature: 15, Score: 0.0474\n"
     ]
    },
    {
     "data": {
      "image/png": "[encoded data removed]",
      "text/plain": [
       "<Figure size 432x288 with 1 Axes>"
      ]
     },
     "metadata": {
      "needs_background": "light"
     },
     "output_type": "display_data"
    },
    {
     "name": "stdout",
     "output_type": "stream",
     "text": [
      "特徵最大值: 0.1697 ,特徵名稱為 X2Ybar\n",
      "特徵最小值: 0.0100 ,特徵名稱為 Width\n"
     ]
    }
   ],
   "source": [
    "importance = randomForestModel_check.feature_importances_\n",
    "list_randomforestimportance = []\n",
    "\n",
    "for i,v in enumerate(importance):\n",
    "    print('Feature: %0d, Score: %.4f' % (i,v))\n",
    "    list_randomforestimportance.append(v)\n",
    "\n",
    "plt.bar([x for x in range(len(importance))], importance)\n",
    "plt.show()\n",
    "\n",
    "print(\"特徵最大值:\",'%.4f'%max(list_randomforestimportance),\",特徵名稱為\",df1.columns[list_randomforestimportance.index(max(list_randomforestimportance))])\n",
    "print(\"特徵最小值:\",'%.4f'%min(list_randomforestimportance),\",特徵名稱為\",df1.columns[list_randomforestimportance.index(min(list_randomforestimportance))])"
   ]
  },
  {
   "cell_type": "markdown",
   "id": "d0acf340",
   "metadata": {},
   "source": [
    "### 特徵重要性篩選(最大3個/最小3個刪除)"
   ]
  },
  {
   "cell_type": "code",
   "execution_count": 9,
   "id": "8206e6b5",
   "metadata": {},
   "outputs": [],
   "source": [
    "y_rf001 = data_le['Class'].values\n",
    "df_rf001= data_le.drop(labels=['Letter','Class','X2Ybar','Y2bar','XY2bar'],axis=1)\n",
    "scaler_rf001 = MinMaxScaler(feature_range=(0,1)).fit(df_rf001)\n",
    "x_rf001 = scaler_rf001.transform(df_rf001)\n",
    "\n",
    "y_rf002 = data_le['Class'].values\n",
    "df_rf002= data_le.drop(labels=['Letter','Class','Width','Height','Onpix'],axis=1)\n",
    "scaler_rf002 = MinMaxScaler(feature_range=(0,1)).fit(df_rf002)\n",
    "x_rf002 = scaler_rf002.transform(df_rf002)"
   ]
  },
  {
   "cell_type": "code",
   "execution_count": 10,
   "id": "9c2b5fb2",
   "metadata": {},
   "outputs": [
    {
     "name": "stdout",
     "output_type": "stream",
     "text": [
      "刪除特徵最大值後  MAE= 1.5657   MAPE= 0.2845   RSME= 3.0390\n",
      "刪除特徵最小值後  MAE= 1.0956   MAPE= 0.1809   RSME= 2.3416\n"
     ]
    }
   ],
   "source": [
    "x_train001,x_test001,y_train001,y_test001 = train_test_split(x_rf001,y_rf001,test_size=0.2, random_state=42)\n",
    "x_train002,x_test002,y_train002,y_test002 = train_test_split(x_rf002,y_rf002,test_size=0.2, random_state=42)\n",
    "\n",
    "randomForestModel001 = RandomForestRegressor(n_estimators=100, criterion='squared_error')\n",
    "randomForestModel001.fit(x_train001,y_train001)\n",
    "predicted001 = randomForestModel001.predict(x_test001)\n",
    "\n",
    "mae001 = '%.4f'%metrics.mean_absolute_error(y_test001, predicted001)\n",
    "mape001 = '%.4f'%metrics.mean_absolute_percentage_error(y_test001, predicted001)\n",
    "rmse001 = '%.4f'%metrics.mean_squared_error(y_test001, predicted001, squared=False)\n",
    "\n",
    "print('刪除特徵最大值後  MAE=', mae001, '  MAPE=', mape001, '  RSME=', rmse001)\n",
    "\n",
    "randomForestModel002 = RandomForestRegressor(n_estimators=100, criterion='squared_error')\n",
    "randomForestModel002.fit(x_train002,y_train002)\n",
    "predicted002 = randomForestModel002.predict(x_test002)\n",
    "\n",
    "mae002 = '%.4f'%metrics.mean_absolute_error(y_test002, predicted002)\n",
    "mape002 = '%.4f'%metrics.mean_absolute_percentage_error(y_test002, predicted002)\n",
    "rmse002 = '%.4f'%metrics.mean_squared_error(y_test002, predicted002, squared=False)\n",
    "\n",
    "print('刪除特徵最小值後  MAE=', mae002, '  MAPE=', mape002, '  RSME=', rmse002)"
   ]
  },
  {
   "cell_type": "code",
   "execution_count": 11,
   "id": "6618a815",
   "metadata": {},
   "outputs": [
    {
     "name": "stdout",
     "output_type": "stream",
     "text": [
      "     資料狀態     MAE    MAPE    RMSE\n",
      "0  原始預測數值  1.1281  0.1852  2.3586\n",
      "1  刪除特徵最大  1.5657  0.2845  3.0390\n",
      "2  刪除特徵最小  1.0956  0.1809  2.3416\n"
     ]
    }
   ],
   "source": [
    "rfcomparison = {\n",
    "    \"資料狀態\":[\"原始預測數值\",\"刪除特徵最大\",\"刪除特徵最小\"],\n",
    "    \"MAE\":[mae,mae001,mae002],\n",
    "    \"MAPE\":[mape,mape001,mape002],\n",
    "    \"RMSE\":[rmse,rmse001,rmse002]}\n",
    "df_rfcomparison = pd.DataFrame(rfcomparison)\n",
    "print(df_rfcomparison)"
   ]
  },
  {
   "cell_type": "code",
   "execution_count": null,
   "id": "37d3d35f",
   "metadata": {},
   "outputs": [],
   "source": []
  }
 ],
 "metadata": {
  "kernelspec": {
   "display_name": "Python 3 (ipykernel)",
   "language": "python",
   "name": "python3"
  },
  "language_info": {
   "codemirror_mode": {
    "name": "ipython",
    "version": 3
   },
   "file_extension": ".py",
   "mimetype": "text/x-python",
   "name": "python",
   "nbconvert_exporter": "python",
   "pygments_lexer": "ipython3",
   "version": "3.9.12"
  }
 },
 "nbformat": 4,
 "nbformat_minor": 5
}
