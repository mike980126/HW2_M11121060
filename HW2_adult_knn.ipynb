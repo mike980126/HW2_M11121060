{
 "cells": [
  {
   "cell_type": "code",
   "execution_count": 1,
   "id": "2544d322",
   "metadata": {},
   "outputs": [],
   "source": [
    "import pandas as pd\n",
    "import numpy as np"
   ]
  },
  {
   "cell_type": "code",
   "execution_count": 16,
   "id": "bee12569",
   "metadata": {},
   "outputs": [],
   "source": [
    "from sklearn.preprocessing import StandardScaler\n",
    "from sklearn.neighbors import KNeighborsClassifier\n",
    "from sklearn import metrics\n",
    "import matplotlib.pyplot as plt"
   ]
  },
  {
   "cell_type": "code",
   "execution_count": 3,
   "id": "2b052ce6",
   "metadata": {},
   "outputs": [],
   "source": [
    "x_train = pd.read_csv(\"adult_train2.csv\")\n",
    "x_test = pd.read_csv(\"adult_test2.csv\")"
   ]
  },
  {
   "cell_type": "markdown",
   "id": "ca25d437",
   "metadata": {},
   "source": [
    "# 刪除特徵前"
   ]
  },
  {
   "cell_type": "code",
   "execution_count": 4,
   "id": "49ff981a",
   "metadata": {},
   "outputs": [],
   "source": [
    "#訓練資料正規化\n",
    "scaler = StandardScaler()\n",
    "y_train_class = x_train['Class'].values\n",
    "x_train_attribute = x_train.drop(labels=['Class'],axis=1)\n",
    "x_train_attribute_2 = x_train_attribute.values\n",
    "scaler = scaler.fit(x_train_attribute.values)\n",
    "x_train_attribute_final = scaler.transform(x_train_attribute.values)"
   ]
  },
  {
   "cell_type": "code",
   "execution_count": 5,
   "id": "7e8048c7",
   "metadata": {},
   "outputs": [],
   "source": [
    "#測試資料正規化\n",
    "scaler = StandardScaler()\n",
    "y_test_class = x_test['Class'].values\n",
    "x_test_attribute = x_test.drop(labels=['Class'],axis=1)\n",
    "x_test_attribute_2 = x_test_attribute.values\n",
    "scaler = scaler.fit(x_test_attribute.values)\n",
    "x_test_attribute_final = scaler.transform(x_test_attribute.values)"
   ]
  },
  {
   "cell_type": "code",
   "execution_count": 54,
   "id": "65371425",
   "metadata": {},
   "outputs": [],
   "source": [
    "#使用訓練資料做預測\n",
    "list = []\n",
    "list2 =[]\n",
    "list3 =[]\n",
    "k = 1\n",
    "while k <= 15:\n",
    "    k = k+2\n",
    "    clf = KNeighborsClassifier(n_neighbors=k,weights = 'distance',algorithm = 'auto')\n",
    "    clf.fit(x_train_attribute_final,y_train_class)\n",
    "    y_pred = clf.predict(x_test_attribute_final)\n",
    "    list.append(mean_absolute_error(y_test_class,y_pred))\n",
    "    list2.append(mean_absolute_percentage_error(y_test_class,y_pred))\n",
    "    list3.append(mean_squared_error(y_test_class, y_pred,squared=False))"
   ]
  },
  {
   "cell_type": "code",
   "execution_count": 10,
   "id": "0700d644",
   "metadata": {},
   "outputs": [
    {
     "name": "stdout",
     "output_type": "stream",
     "text": [
      "Feature: 0, Score: 0.1418\n",
      "Feature: 1, Score: 0.0835\n",
      "Feature: 2, Score: 0.1283\n",
      "Feature: 3, Score: 0.1114\n",
      "Feature: 4, Score: 0.1478\n",
      "Feature: 5, Score: 0.1191\n",
      "Feature: 6, Score: 0.1309\n",
      "Feature: 7, Score: 0.1072\n",
      "Feature: 8, Score: 0.0395\n",
      "Feature: 9, Score: 0.0784\n",
      "Feature: 10, Score: 0.0428\n",
      "Feature: 11, Score: 0.0263\n",
      "Feature: 12, Score: 0.1138\n",
      "Feature: 13, Score: 0.0254\n"
     ]
    },
    {
     "data": {
      "image/png": "[encoded data removed]",
      "text/plain": [
       "<Figure size 432x288 with 1 Axes>"
      ]
     },
     "metadata": {
      "needs_background": "light"
     },
     "output_type": "display_data"
    }
   ],
   "source": [
    "from sklearn.inspection import permutation_importance\n",
    "list_knnimportance = []\n",
    "results = permutation_importance(clf, x_train_attribute_final,y_train_class, scoring='neg_mean_squared_error')\n",
    "importance = results.importances_mean\n",
    "\n",
    "for i,v in enumerate(importance):\n",
    "    print('Feature: %0d, Score: %.4f' % (i,v))\n",
    "    list_knnimportance.append(v)\n",
    "\n",
    "plt.bar([x for x in range(len(importance))], importance)\n",
    "plt.show()"
   ]
  },
  {
   "cell_type": "code",
   "execution_count": 30,
   "id": "703aadf4",
   "metadata": {},
   "outputs": [
    {
     "name": "stdout",
     "output_type": "stream",
     "text": [
      "置換特徵最大值: 0.1478 ,特徵名稱為 education-num\n",
      "置換特徵最小值: 0.0254 ,特徵名稱為 native-country\n"
     ]
    }
   ],
   "source": [
    "print(\"置換特徵最大值:\",'%.4f'%max(list_knnimportance),\",特徵名稱為\",x_test_attribute.columns[list_knnimportance.index(max(list_knnimportance))])\n",
    "print(\"置換特徵最小值:\",'%.4f'%min(list_knnimportance),\",特徵名稱為\",x_test_attribute.columns[list_knnimportance.index(min(list_knnimportance))])\n"
   ]
  },
  {
   "cell_type": "code",
   "execution_count": 31,
   "id": "452fe5b3",
   "metadata": {},
   "outputs": [
    {
     "data": {
      "text/html": [
       "<div>\n",
       "<style scoped>\n",
       "    .dataframe tbody tr th:only-of-type {\n",
       "        vertical-align: middle;\n",
       "    }\n",
       "\n",
       "    .dataframe tbody tr th {\n",
       "        vertical-align: top;\n",
       "    }\n",
       "\n",
       "    .dataframe thead th {\n",
       "        text-align: right;\n",
       "    }\n",
       "</style>\n",
       "<table border=\"1\" class=\"dataframe\">\n",
       "  <thead>\n",
       "    <tr style=\"text-align: right;\">\n",
       "      <th></th>\n",
       "      <th>age</th>\n",
       "      <th>workclass</th>\n",
       "      <th>fnlwgt</th>\n",
       "      <th>education</th>\n",
       "      <th>education-num</th>\n",
       "      <th>marital-status</th>\n",
       "      <th>occupation</th>\n",
       "      <th>relationship</th>\n",
       "      <th>race</th>\n",
       "      <th>sex</th>\n",
       "      <th>capital-gain</th>\n",
       "      <th>capital-loss</th>\n",
       "      <th>hours-per-week</th>\n",
       "      <th>native-country</th>\n",
       "    </tr>\n",
       "  </thead>\n",
       "  <tbody>\n",
       "    <tr>\n",
       "      <th>0</th>\n",
       "      <td>25</td>\n",
       "      <td>2</td>\n",
       "      <td>226802</td>\n",
       "      <td>1</td>\n",
       "      <td>7</td>\n",
       "      <td>4</td>\n",
       "      <td>6</td>\n",
       "      <td>3</td>\n",
       "      <td>2</td>\n",
       "      <td>1</td>\n",
       "      <td>0</td>\n",
       "      <td>0</td>\n",
       "      <td>39</td>\n",
       "      <td>37</td>\n",
       "    </tr>\n",
       "    <tr>\n",
       "      <th>1</th>\n",
       "      <td>38</td>\n",
       "      <td>2</td>\n",
       "      <td>89814</td>\n",
       "      <td>11</td>\n",
       "      <td>9</td>\n",
       "      <td>2</td>\n",
       "      <td>4</td>\n",
       "      <td>0</td>\n",
       "      <td>4</td>\n",
       "      <td>1</td>\n",
       "      <td>0</td>\n",
       "      <td>0</td>\n",
       "      <td>49</td>\n",
       "      <td>37</td>\n",
       "    </tr>\n",
       "    <tr>\n",
       "      <th>2</th>\n",
       "      <td>28</td>\n",
       "      <td>1</td>\n",
       "      <td>336951</td>\n",
       "      <td>7</td>\n",
       "      <td>12</td>\n",
       "      <td>2</td>\n",
       "      <td>10</td>\n",
       "      <td>0</td>\n",
       "      <td>4</td>\n",
       "      <td>1</td>\n",
       "      <td>0</td>\n",
       "      <td>0</td>\n",
       "      <td>39</td>\n",
       "      <td>37</td>\n",
       "    </tr>\n",
       "    <tr>\n",
       "      <th>3</th>\n",
       "      <td>44</td>\n",
       "      <td>2</td>\n",
       "      <td>160323</td>\n",
       "      <td>15</td>\n",
       "      <td>10</td>\n",
       "      <td>2</td>\n",
       "      <td>6</td>\n",
       "      <td>0</td>\n",
       "      <td>2</td>\n",
       "      <td>1</td>\n",
       "      <td>7688</td>\n",
       "      <td>0</td>\n",
       "      <td>39</td>\n",
       "      <td>37</td>\n",
       "    </tr>\n",
       "    <tr>\n",
       "      <th>4</th>\n",
       "      <td>34</td>\n",
       "      <td>2</td>\n",
       "      <td>198693</td>\n",
       "      <td>0</td>\n",
       "      <td>6</td>\n",
       "      <td>4</td>\n",
       "      <td>7</td>\n",
       "      <td>1</td>\n",
       "      <td>4</td>\n",
       "      <td>1</td>\n",
       "      <td>0</td>\n",
       "      <td>0</td>\n",
       "      <td>29</td>\n",
       "      <td>37</td>\n",
       "    </tr>\n",
       "    <tr>\n",
       "      <th>...</th>\n",
       "      <td>...</td>\n",
       "      <td>...</td>\n",
       "      <td>...</td>\n",
       "      <td>...</td>\n",
       "      <td>...</td>\n",
       "      <td>...</td>\n",
       "      <td>...</td>\n",
       "      <td>...</td>\n",
       "      <td>...</td>\n",
       "      <td>...</td>\n",
       "      <td>...</td>\n",
       "      <td>...</td>\n",
       "      <td>...</td>\n",
       "      <td>...</td>\n",
       "    </tr>\n",
       "    <tr>\n",
       "      <th>15055</th>\n",
       "      <td>33</td>\n",
       "      <td>2</td>\n",
       "      <td>245211</td>\n",
       "      <td>9</td>\n",
       "      <td>13</td>\n",
       "      <td>4</td>\n",
       "      <td>9</td>\n",
       "      <td>3</td>\n",
       "      <td>4</td>\n",
       "      <td>1</td>\n",
       "      <td>0</td>\n",
       "      <td>0</td>\n",
       "      <td>39</td>\n",
       "      <td>37</td>\n",
       "    </tr>\n",
       "    <tr>\n",
       "      <th>15056</th>\n",
       "      <td>39</td>\n",
       "      <td>2</td>\n",
       "      <td>215419</td>\n",
       "      <td>9</td>\n",
       "      <td>13</td>\n",
       "      <td>0</td>\n",
       "      <td>9</td>\n",
       "      <td>1</td>\n",
       "      <td>4</td>\n",
       "      <td>0</td>\n",
       "      <td>0</td>\n",
       "      <td>0</td>\n",
       "      <td>35</td>\n",
       "      <td>37</td>\n",
       "    </tr>\n",
       "    <tr>\n",
       "      <th>15057</th>\n",
       "      <td>38</td>\n",
       "      <td>2</td>\n",
       "      <td>374983</td>\n",
       "      <td>9</td>\n",
       "      <td>13</td>\n",
       "      <td>2</td>\n",
       "      <td>9</td>\n",
       "      <td>0</td>\n",
       "      <td>4</td>\n",
       "      <td>1</td>\n",
       "      <td>0</td>\n",
       "      <td>0</td>\n",
       "      <td>49</td>\n",
       "      <td>37</td>\n",
       "    </tr>\n",
       "    <tr>\n",
       "      <th>15058</th>\n",
       "      <td>44</td>\n",
       "      <td>2</td>\n",
       "      <td>83891</td>\n",
       "      <td>9</td>\n",
       "      <td>13</td>\n",
       "      <td>0</td>\n",
       "      <td>0</td>\n",
       "      <td>3</td>\n",
       "      <td>1</td>\n",
       "      <td>1</td>\n",
       "      <td>5455</td>\n",
       "      <td>0</td>\n",
       "      <td>39</td>\n",
       "      <td>37</td>\n",
       "    </tr>\n",
       "    <tr>\n",
       "      <th>15059</th>\n",
       "      <td>35</td>\n",
       "      <td>3</td>\n",
       "      <td>182148</td>\n",
       "      <td>9</td>\n",
       "      <td>13</td>\n",
       "      <td>2</td>\n",
       "      <td>3</td>\n",
       "      <td>0</td>\n",
       "      <td>4</td>\n",
       "      <td>1</td>\n",
       "      <td>0</td>\n",
       "      <td>0</td>\n",
       "      <td>59</td>\n",
       "      <td>37</td>\n",
       "    </tr>\n",
       "  </tbody>\n",
       "</table>\n",
       "<p>15060 rows × 14 columns</p>\n",
       "</div>"
      ],
      "text/plain": [
       "       age  workclass  fnlwgt  education  education-num  marital-status  \\\n",
       "0       25          2  226802          1              7               4   \n",
       "1       38          2   89814         11              9               2   \n",
       "2       28          1  336951          7             12               2   \n",
       "3       44          2  160323         15             10               2   \n",
       "4       34          2  198693          0              6               4   \n",
       "...    ...        ...     ...        ...            ...             ...   \n",
       "15055   33          2  245211          9             13               4   \n",
       "15056   39          2  215419          9             13               0   \n",
       "15057   38          2  374983          9             13               2   \n",
       "15058   44          2   83891          9             13               0   \n",
       "15059   35          3  182148          9             13               2   \n",
       "\n",
       "       occupation  relationship  race  sex  capital-gain  capital-loss  \\\n",
       "0               6             3     2    1             0             0   \n",
       "1               4             0     4    1             0             0   \n",
       "2              10             0     4    1             0             0   \n",
       "3               6             0     2    1          7688             0   \n",
       "4               7             1     4    1             0             0   \n",
       "...           ...           ...   ...  ...           ...           ...   \n",
       "15055           9             3     4    1             0             0   \n",
       "15056           9             1     4    0             0             0   \n",
       "15057           9             0     4    1             0             0   \n",
       "15058           0             3     1    1          5455             0   \n",
       "15059           3             0     4    1             0             0   \n",
       "\n",
       "       hours-per-week  native-country  \n",
       "0                  39              37  \n",
       "1                  49              37  \n",
       "2                  39              37  \n",
       "3                  39              37  \n",
       "4                  29              37  \n",
       "...               ...             ...  \n",
       "15055              39              37  \n",
       "15056              35              37  \n",
       "15057              49              37  \n",
       "15058              39              37  \n",
       "15059              59              37  \n",
       "\n",
       "[15060 rows x 14 columns]"
      ]
     },
     "execution_count": 31,
     "metadata": {},
     "output_type": "execute_result"
    }
   ],
   "source": [
    "x_test_attribute"
   ]
  },
  {
   "cell_type": "code",
   "execution_count": 55,
   "id": "6fab5c09",
   "metadata": {
    "scrolled": true
   },
   "outputs": [
    {
     "name": "stdout",
     "output_type": "stream",
     "text": [
      "MAE: [0.1857901726427623, 0.1806108897742364, 0.17065073041168657, 0.1701859229747676, 0.1691899070385126, 0.16806108897742364, 0.16766268260292164, 0.16673306772908367]\n",
      "MAPE:  [0.14382470119521912, 0.14259628154050466, 0.13645418326693226, 0.1360889774236388, 0.13648738379814077, 0.13605577689243029, 0.1359229747675963, 0.1355909694555113]\n",
      "RMSE:  [0.4310338416444378, 0.4249833994101845, 0.4130989353795124, 0.41253596567422773, 0.4113270074265883, 0.40995254478710536, 0.4094663387910191, 0.4083296067260904]\n"
     ]
    }
   ],
   "source": [
    "print('MAE:',list)\n",
    "print('MAPE: ',list2)\n",
    "print('RMSE: ',list3)"
   ]
  },
  {
   "cell_type": "markdown",
   "id": "77a6763e",
   "metadata": {},
   "source": [
    "# 刪除重要特徵"
   ]
  },
  {
   "cell_type": "code",
   "execution_count": 32,
   "id": "4186cf61",
   "metadata": {},
   "outputs": [],
   "source": [
    "x_train_attribute2 = x_train.drop(labels=['Class','education-num','age','occupation'],axis=1)\n",
    "y_train_class2 = x_train['Class'].values\n",
    "\n",
    "x_test_attribute2 = x_test.drop(labels=['Class','education-num','age','occupation'],axis=1)\n",
    "y_test_class2 = x_test['Class'].values"
   ]
  },
  {
   "cell_type": "code",
   "execution_count": 56,
   "id": "0d6c3f25",
   "metadata": {},
   "outputs": [],
   "source": [
    "list = []\n",
    "list2 =[]\n",
    "list3 =[]\n",
    "k = 1\n",
    "while k <= 15:\n",
    "    k = k+2\n",
    "    clf = KNeighborsClassifier(n_neighbors=k,weights = 'distance',algorithm = 'auto')\n",
    "    clf.fit(x_train_attribute2,y_train_class2)\n",
    "    y_pred = clf.predict(x_test_attribute2)\n",
    "    list.append(mean_absolute_error(y_test_class2,y_pred))\n",
    "    list2.append(mean_absolute_percentage_error(y_test_class2,y_pred))\n",
    "    list3.append(mean_squared_error(y_test_class2, y_pred,squared=False))\n",
    " "
   ]
  },
  {
   "cell_type": "code",
   "execution_count": 57,
   "id": "dbab536d",
   "metadata": {},
   "outputs": [
    {
     "name": "stdout",
     "output_type": "stream",
     "text": [
      "MAE: [0.25883134130146085, 0.24249667994687915, 0.23359893758300132, 0.22722443559096944, 0.22370517928286854, 0.22104913678618857, 0.21918990703851263, 0.21766268260292165]\n"
     ]
    }
   ],
   "source": [
    "print('MAE:',list)"
   ]
  },
  {
   "cell_type": "code",
   "execution_count": 58,
   "id": "d8be8296",
   "metadata": {},
   "outputs": [
    {
     "name": "stdout",
     "output_type": "stream",
     "text": [
      "MAPE:  [0.20637450199203186, 0.20239043824701194, 0.20102921646746347, 0.20019920318725098, 0.200066401062417, 0.200132802124834, 0.2000996015936255, 0.20019920318725098]\n"
     ]
    }
   ],
   "source": [
    "print('MAPE: ',list2)"
   ]
  },
  {
   "cell_type": "code",
   "execution_count": 59,
   "id": "44f4a213",
   "metadata": {},
   "outputs": [
    {
     "name": "stdout",
     "output_type": "stream",
     "text": [
      "RMSE:  [0.5087546965890938, 0.49243951907506284, 0.4833207398643279, 0.47668064318888537, 0.4729748188676312, 0.47015862938607067, 0.4681772175560368, 0.4665433341104786]\n"
     ]
    }
   ],
   "source": [
    "print('RMSE: ',list3)"
   ]
  },
  {
   "cell_type": "markdown",
   "id": "3b5c36d1",
   "metadata": {},
   "source": [
    "# 刪除不重要特徵"
   ]
  },
  {
   "cell_type": "code",
   "execution_count": 41,
   "id": "9a3095cb",
   "metadata": {},
   "outputs": [],
   "source": [
    "x_train_attribute3 = x_train.drop(labels=['Class','native-country','capital-loss','race'],axis=1)\n",
    "y_train_class3 = x_train['Class'].values\n",
    "\n",
    "x_test_attribute3 = x_test.drop(labels=['Class','native-country','capital-loss','race'],axis=1)\n",
    "y_test_class3 = x_test['Class'].values"
   ]
  },
  {
   "cell_type": "code",
   "execution_count": 60,
   "id": "3507d7f1",
   "metadata": {},
   "outputs": [],
   "source": [
    "list = []\n",
    "list2 =[]\n",
    "list3 =[]\n",
    "k = 1\n",
    "while k <= 15:\n",
    "    k = k+2\n",
    "    clf = KNeighborsClassifier(n_neighbors=k,weights = 'distance',algorithm = 'auto')\n",
    "    clf.fit(x_train_attribute3,y_train_class3)\n",
    "    y_pred = clf.predict(x_test_attribute3)\n",
    "    list.append(mean_absolute_error(y_test_class3,y_pred))\n",
    "    list2.append(mean_absolute_percentage_error(y_test_class3,y_pred))\n",
    "    list3.append(mean_squared_error(y_test_class3, y_pred,squared=False))\n"
   ]
  },
  {
   "cell_type": "code",
   "execution_count": 61,
   "id": "ff707782",
   "metadata": {},
   "outputs": [
    {
     "name": "stdout",
     "output_type": "stream",
     "text": [
      "MAE: [0.25697211155378485, 0.24362549800796812, 0.23353253652058434, 0.2290836653386454, 0.2246347941567065, 0.22138114209827356, 0.21826029216467463, 0.2156706507304117]\n"
     ]
    }
   ],
   "source": [
    "print('MAE:',list)"
   ]
  },
  {
   "cell_type": "code",
   "execution_count": 62,
   "id": "76f4fb13",
   "metadata": {},
   "outputs": [
    {
     "name": "stdout",
     "output_type": "stream",
     "text": [
      "MAPE:  [0.20255644090305444, 0.2006308100929615, 0.19877158034528553, 0.2000332005312085, 0.1997011952191235, 0.1997675962815405, 0.19926958831341302, 0.199203187250996]\n"
     ]
    }
   ],
   "source": [
    "print('MAPE: ',list2)"
   ]
  },
  {
   "cell_type": "code",
   "execution_count": 63,
   "id": "edb2227f",
   "metadata": {},
   "outputs": [
    {
     "name": "stdout",
     "output_type": "stream",
     "text": [
      "RMSE:  [0.5069241674587875, 0.49358433727982914, 0.4832520424380888, 0.47862685396731075, 0.4739565319274612, 0.47051157488235457, 0.467183360325124, 0.4644035429778844]\n"
     ]
    }
   ],
   "source": [
    "print('RMSE: ',list3)"
   ]
  },
  {
   "cell_type": "code",
   "execution_count": null,
   "id": "dbb55a5c",
   "metadata": {},
   "outputs": [],
   "source": []
  }
 ],
 "metadata": {
  "kernelspec": {
   "display_name": "Python 3 (ipykernel)",
   "language": "python",
   "name": "python3"
  },
  "language_info": {
   "codemirror_mode": {
    "name": "ipython",
    "version": 3
   },
   "file_extension": ".py",
   "mimetype": "text/x-python",
   "name": "python",
   "nbconvert_exporter": "python",
   "pygments_lexer": "ipython3",
   "version": "3.9.12"
  }
 },
 "nbformat": 4,
 "nbformat_minor": 5
}
