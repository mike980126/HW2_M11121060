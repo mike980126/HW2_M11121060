{
 "cells": [
  {
   "cell_type": "code",
   "execution_count": 1,
   "id": "2544d322",
   "metadata": {},
   "outputs": [],
   "source": [
    "import pandas as pd\n",
    "import numpy as np"
   ]
  },
  {
   "cell_type": "code",
   "execution_count": 7,
   "id": "bee12569",
   "metadata": {},
   "outputs": [],
   "source": [
    "from sklearn.preprocessing import StandardScaler\n",
    "from sklearn.neighbors import KNeighborsClassifier\n",
    "from sklearn.metrics import mean_absolute_error\n",
    "from sklearn.metrics import mean_squared_error\n",
    "from sklearn.metrics import mean_absolute_percentage_error\n",
    "from sklearn import metrics\n",
    "import matplotlib.pyplot as plt"
   ]
  },
  {
   "cell_type": "code",
   "execution_count": 3,
   "id": "2b052ce6",
   "metadata": {},
   "outputs": [],
   "source": [
    "x_train = pd.read_csv(\"adult_train2.csv\")\n",
    "x_test = pd.read_csv(\"adult_test2.csv\")"
   ]
  },
  {
   "cell_type": "markdown",
   "id": "ca25d437",
   "metadata": {},
   "source": [
    "# 刪除特徵前"
   ]
  },
  {
   "cell_type": "code",
   "execution_count": 4,
   "id": "49ff981a",
   "metadata": {},
   "outputs": [],
   "source": [
    "#訓練資料正規化\n",
    "scaler = StandardScaler()\n",
    "y_train_class = x_train['hours-per-week'].values\n",
    "x_train_attribute = x_train.drop(labels=['hours-per-week'],axis=1)\n",
    "x_train_attribute_2 = x_train_attribute.values\n",
    "scaler = scaler.fit(x_train_attribute.values)\n",
    "x_train_attribute_final = scaler.transform(x_train_attribute.values)"
   ]
  },
  {
   "cell_type": "code",
   "execution_count": 5,
   "id": "7e8048c7",
   "metadata": {},
   "outputs": [],
   "source": [
    "#測試資料正規化\n",
    "scaler = StandardScaler()\n",
    "y_test_class = x_test['hours-per-week'].values\n",
    "x_test_attribute = x_test.drop(labels=['hours-per-week'],axis=1)\n",
    "x_test_attribute_2 = x_test_attribute.values\n",
    "scaler = scaler.fit(x_test_attribute.values)\n",
    "x_test_attribute_final = scaler.transform(x_test_attribute.values)"
   ]
  },
  {
   "cell_type": "code",
   "execution_count": 19,
   "id": "65371425",
   "metadata": {},
   "outputs": [],
   "source": [
    "#使用訓練資料做預測\n",
    "list = []\n",
    "list2 =[]\n",
    "list3 =[]\n",
    "k = 1\n",
    "while k <= 61:\n",
    "    k = k+2\n",
    "    clf = KNeighborsClassifier(n_neighbors=k,weights = 'distance',algorithm = 'auto')\n",
    "    clf.fit(x_train_attribute_final,y_train_class)\n",
    "    y_pred = clf.predict(x_test_attribute_final)\n",
    "    list.append(mean_absolute_error(y_test_class,y_pred))\n",
    "    list2.append(mean_absolute_percentage_error(y_test_class,y_pred))\n",
    "    list3.append(mean_squared_error(y_test_class, y_pred,squared=False))"
   ]
  },
  {
   "cell_type": "code",
   "execution_count": 9,
   "id": "0700d644",
   "metadata": {},
   "outputs": [
    {
     "name": "stdout",
     "output_type": "stream",
     "text": [
      "Feature: 0, Score: 126.2995\n",
      "Feature: 1, Score: 68.6172\n",
      "Feature: 2, Score: 115.7544\n",
      "Feature: 3, Score: 102.1375\n",
      "Feature: 4, Score: 102.1423\n",
      "Feature: 5, Score: 84.4265\n",
      "Feature: 6, Score: 115.1054\n",
      "Feature: 7, Score: 96.0715\n",
      "Feature: 8, Score: 31.8896\n",
      "Feature: 9, Score: 58.7365\n",
      "Feature: 10, Score: 19.6617\n",
      "Feature: 11, Score: 13.1469\n",
      "Feature: 12, Score: 21.4578\n",
      "Feature: 13, Score: 52.5718\n"
     ]
    },
    {
     "data": {
      "image/png": "[encoded data removed]",
      "text/plain": [
       "<Figure size 432x288 with 1 Axes>"
      ]
     },
     "metadata": {
      "needs_background": "light"
     },
     "output_type": "display_data"
    }
   ],
   "source": [
    "from sklearn.inspection import permutation_importance\n",
    "list_knnimportance = []\n",
    "results = permutation_importance(clf, x_train_attribute_final,y_train_class, scoring='neg_mean_squared_error')\n",
    "importance = results.importances_mean\n",
    "\n",
    "for i,v in enumerate(importance):\n",
    "    print('Feature: %0d, Score: %.4f' % (i,v))\n",
    "    list_knnimportance.append(v)\n",
    "\n",
    "plt.bar([x for x in range(len(importance))], importance)\n",
    "plt.show()"
   ]
  },
  {
   "cell_type": "code",
   "execution_count": 10,
   "id": "703aadf4",
   "metadata": {},
   "outputs": [
    {
     "name": "stdout",
     "output_type": "stream",
     "text": [
      "置換特徵最大值: 126.2995 ,特徵名稱為 age\n",
      "置換特徵最小值: 13.1469 ,特徵名稱為 capital-loss\n"
     ]
    }
   ],
   "source": [
    "print(\"置換特徵最大值:\",'%.4f'%max(list_knnimportance),\",特徵名稱為\",x_test_attribute.columns[list_knnimportance.index(max(list_knnimportance))])\n",
    "print(\"置換特徵最小值:\",'%.4f'%min(list_knnimportance),\",特徵名稱為\",x_test_attribute.columns[list_knnimportance.index(min(list_knnimportance))])\n"
   ]
  },
  {
   "cell_type": "code",
   "execution_count": 11,
   "id": "452fe5b3",
   "metadata": {},
   "outputs": [
    {
     "data": {
      "text/html": [
       "<div>\n",
       "<style scoped>\n",
       "    .dataframe tbody tr th:only-of-type {\n",
       "        vertical-align: middle;\n",
       "    }\n",
       "\n",
       "    .dataframe tbody tr th {\n",
       "        vertical-align: top;\n",
       "    }\n",
       "\n",
       "    .dataframe thead th {\n",
       "        text-align: right;\n",
       "    }\n",
       "</style>\n",
       "<table border=\"1\" class=\"dataframe\">\n",
       "  <thead>\n",
       "    <tr style=\"text-align: right;\">\n",
       "      <th></th>\n",
       "      <th>age</th>\n",
       "      <th>workclass</th>\n",
       "      <th>fnlwgt</th>\n",
       "      <th>education</th>\n",
       "      <th>education-num</th>\n",
       "      <th>marital-status</th>\n",
       "      <th>occupation</th>\n",
       "      <th>relationship</th>\n",
       "      <th>race</th>\n",
       "      <th>sex</th>\n",
       "      <th>capital-gain</th>\n",
       "      <th>capital-loss</th>\n",
       "      <th>native-country</th>\n",
       "      <th>Class</th>\n",
       "    </tr>\n",
       "  </thead>\n",
       "  <tbody>\n",
       "    <tr>\n",
       "      <th>0</th>\n",
       "      <td>25</td>\n",
       "      <td>2</td>\n",
       "      <td>226802</td>\n",
       "      <td>1</td>\n",
       "      <td>7</td>\n",
       "      <td>4</td>\n",
       "      <td>6</td>\n",
       "      <td>3</td>\n",
       "      <td>2</td>\n",
       "      <td>1</td>\n",
       "      <td>0</td>\n",
       "      <td>0</td>\n",
       "      <td>37</td>\n",
       "      <td>2</td>\n",
       "    </tr>\n",
       "    <tr>\n",
       "      <th>1</th>\n",
       "      <td>38</td>\n",
       "      <td>2</td>\n",
       "      <td>89814</td>\n",
       "      <td>11</td>\n",
       "      <td>9</td>\n",
       "      <td>2</td>\n",
       "      <td>4</td>\n",
       "      <td>0</td>\n",
       "      <td>4</td>\n",
       "      <td>1</td>\n",
       "      <td>0</td>\n",
       "      <td>0</td>\n",
       "      <td>37</td>\n",
       "      <td>2</td>\n",
       "    </tr>\n",
       "    <tr>\n",
       "      <th>2</th>\n",
       "      <td>28</td>\n",
       "      <td>1</td>\n",
       "      <td>336951</td>\n",
       "      <td>7</td>\n",
       "      <td>12</td>\n",
       "      <td>2</td>\n",
       "      <td>10</td>\n",
       "      <td>0</td>\n",
       "      <td>4</td>\n",
       "      <td>1</td>\n",
       "      <td>0</td>\n",
       "      <td>0</td>\n",
       "      <td>37</td>\n",
       "      <td>1</td>\n",
       "    </tr>\n",
       "    <tr>\n",
       "      <th>3</th>\n",
       "      <td>44</td>\n",
       "      <td>2</td>\n",
       "      <td>160323</td>\n",
       "      <td>15</td>\n",
       "      <td>10</td>\n",
       "      <td>2</td>\n",
       "      <td>6</td>\n",
       "      <td>0</td>\n",
       "      <td>2</td>\n",
       "      <td>1</td>\n",
       "      <td>7688</td>\n",
       "      <td>0</td>\n",
       "      <td>37</td>\n",
       "      <td>1</td>\n",
       "    </tr>\n",
       "    <tr>\n",
       "      <th>4</th>\n",
       "      <td>34</td>\n",
       "      <td>2</td>\n",
       "      <td>198693</td>\n",
       "      <td>0</td>\n",
       "      <td>6</td>\n",
       "      <td>4</td>\n",
       "      <td>7</td>\n",
       "      <td>1</td>\n",
       "      <td>4</td>\n",
       "      <td>1</td>\n",
       "      <td>0</td>\n",
       "      <td>0</td>\n",
       "      <td>37</td>\n",
       "      <td>2</td>\n",
       "    </tr>\n",
       "    <tr>\n",
       "      <th>...</th>\n",
       "      <td>...</td>\n",
       "      <td>...</td>\n",
       "      <td>...</td>\n",
       "      <td>...</td>\n",
       "      <td>...</td>\n",
       "      <td>...</td>\n",
       "      <td>...</td>\n",
       "      <td>...</td>\n",
       "      <td>...</td>\n",
       "      <td>...</td>\n",
       "      <td>...</td>\n",
       "      <td>...</td>\n",
       "      <td>...</td>\n",
       "      <td>...</td>\n",
       "    </tr>\n",
       "    <tr>\n",
       "      <th>15055</th>\n",
       "      <td>33</td>\n",
       "      <td>2</td>\n",
       "      <td>245211</td>\n",
       "      <td>9</td>\n",
       "      <td>13</td>\n",
       "      <td>4</td>\n",
       "      <td>9</td>\n",
       "      <td>3</td>\n",
       "      <td>4</td>\n",
       "      <td>1</td>\n",
       "      <td>0</td>\n",
       "      <td>0</td>\n",
       "      <td>37</td>\n",
       "      <td>2</td>\n",
       "    </tr>\n",
       "    <tr>\n",
       "      <th>15056</th>\n",
       "      <td>39</td>\n",
       "      <td>2</td>\n",
       "      <td>215419</td>\n",
       "      <td>9</td>\n",
       "      <td>13</td>\n",
       "      <td>0</td>\n",
       "      <td>9</td>\n",
       "      <td>1</td>\n",
       "      <td>4</td>\n",
       "      <td>0</td>\n",
       "      <td>0</td>\n",
       "      <td>0</td>\n",
       "      <td>37</td>\n",
       "      <td>2</td>\n",
       "    </tr>\n",
       "    <tr>\n",
       "      <th>15057</th>\n",
       "      <td>38</td>\n",
       "      <td>2</td>\n",
       "      <td>374983</td>\n",
       "      <td>9</td>\n",
       "      <td>13</td>\n",
       "      <td>2</td>\n",
       "      <td>9</td>\n",
       "      <td>0</td>\n",
       "      <td>4</td>\n",
       "      <td>1</td>\n",
       "      <td>0</td>\n",
       "      <td>0</td>\n",
       "      <td>37</td>\n",
       "      <td>2</td>\n",
       "    </tr>\n",
       "    <tr>\n",
       "      <th>15058</th>\n",
       "      <td>44</td>\n",
       "      <td>2</td>\n",
       "      <td>83891</td>\n",
       "      <td>9</td>\n",
       "      <td>13</td>\n",
       "      <td>0</td>\n",
       "      <td>0</td>\n",
       "      <td>3</td>\n",
       "      <td>1</td>\n",
       "      <td>1</td>\n",
       "      <td>5455</td>\n",
       "      <td>0</td>\n",
       "      <td>37</td>\n",
       "      <td>2</td>\n",
       "    </tr>\n",
       "    <tr>\n",
       "      <th>15059</th>\n",
       "      <td>35</td>\n",
       "      <td>3</td>\n",
       "      <td>182148</td>\n",
       "      <td>9</td>\n",
       "      <td>13</td>\n",
       "      <td>2</td>\n",
       "      <td>3</td>\n",
       "      <td>0</td>\n",
       "      <td>4</td>\n",
       "      <td>1</td>\n",
       "      <td>0</td>\n",
       "      <td>0</td>\n",
       "      <td>37</td>\n",
       "      <td>1</td>\n",
       "    </tr>\n",
       "  </tbody>\n",
       "</table>\n",
       "<p>15060 rows × 14 columns</p>\n",
       "</div>"
      ],
      "text/plain": [
       "       age  workclass  fnlwgt  education  education-num  marital-status  \\\n",
       "0       25          2  226802          1              7               4   \n",
       "1       38          2   89814         11              9               2   \n",
       "2       28          1  336951          7             12               2   \n",
       "3       44          2  160323         15             10               2   \n",
       "4       34          2  198693          0              6               4   \n",
       "...    ...        ...     ...        ...            ...             ...   \n",
       "15055   33          2  245211          9             13               4   \n",
       "15056   39          2  215419          9             13               0   \n",
       "15057   38          2  374983          9             13               2   \n",
       "15058   44          2   83891          9             13               0   \n",
       "15059   35          3  182148          9             13               2   \n",
       "\n",
       "       occupation  relationship  race  sex  capital-gain  capital-loss  \\\n",
       "0               6             3     2    1             0             0   \n",
       "1               4             0     4    1             0             0   \n",
       "2              10             0     4    1             0             0   \n",
       "3               6             0     2    1          7688             0   \n",
       "4               7             1     4    1             0             0   \n",
       "...           ...           ...   ...  ...           ...           ...   \n",
       "15055           9             3     4    1             0             0   \n",
       "15056           9             1     4    0             0             0   \n",
       "15057           9             0     4    1             0             0   \n",
       "15058           0             3     1    1          5455             0   \n",
       "15059           3             0     4    1             0             0   \n",
       "\n",
       "       native-country  Class  \n",
       "0                  37      2  \n",
       "1                  37      2  \n",
       "2                  37      1  \n",
       "3                  37      1  \n",
       "4                  37      2  \n",
       "...               ...    ...  \n",
       "15055              37      2  \n",
       "15056              37      2  \n",
       "15057              37      2  \n",
       "15058              37      2  \n",
       "15059              37      1  \n",
       "\n",
       "[15060 rows x 14 columns]"
      ]
     },
     "execution_count": 11,
     "metadata": {},
     "output_type": "execute_result"
    }
   ],
   "source": [
    "x_test_attribute"
   ]
  },
  {
   "cell_type": "code",
   "execution_count": 31,
   "id": "6fab5c09",
   "metadata": {
    "scrolled": true
   },
   "outputs": [
    {
     "name": "stdout",
     "output_type": "stream",
     "text": [
      "MAE: [8.966201859229749, 8.09136786188579, 7.679482071713148, 7.40796812749004, 7.303917662682603, 7.16726427622842, 7.061221779548473, 6.976162018592298, 6.961487383798141, 6.918525896414343, 6.891102257636122, 6.884528552456839, 6.8649402390438246, 6.8560424966799465, 6.844887118193891, 6.8403718459495355, 6.829083665338645, 6.819721115537849, 6.808764940239044, 6.81547144754316, 6.802390438247012, 6.801261620185923, 6.810424966799469, 6.80796812749004, 6.804116865869854, 6.805776892430279, 6.812151394422311, 6.818924302788845, 6.818990703851262, 6.8069057104913675, 6.812151394422311] \n",
      " Min: 6.801261620185923  鄰居數為 43 個 \n",
      "\n",
      "MAPE:  [0.33826273268284673, 0.3158664589362973, 0.3095289333617164, 0.30228317369465685, 0.2996225156386599, 0.2959660594684964, 0.29371089066347045, 0.29164289227843415, 0.29244422421674143, 0.29352288814086186, 0.2932049494025992, 0.2928761837601791, 0.2920008637497739, 0.29256042638000895, 0.29105749587737545, 0.29272043418830107, 0.29175951601464634, 0.2910953101885568, 0.29053685623557546, 0.29075033899233643, 0.2902327487758064, 0.2900723030254836, 0.29065260503843887, 0.29032934472734645, 0.29027844900245636, 0.2907235275092855, 0.29108208315015954, 0.2916444185747995, 0.2912408283174621, 0.2908363260624312, 0.2915068171886426] \n",
      " Min: 0.2900723030254836  鄰居數為 43 個 \n",
      "\n",
      "RMSE:  [13.657431369291434, 12.731213537631449, 12.28048419911343, 11.989686803308679, 11.878001472920596, 11.74004339250506, 11.64715879950684, 11.561128602135385, 11.559253205175263, 11.489810139936727, 11.46864771793465, 11.469721673704395, 11.461199629425845, 11.462039663761946, 11.449716849610517, 11.454703215867804, 11.440643050677465, 11.44315879179041, 11.431486537723403, 11.440117780019449, 11.425345185866458, 11.424098500994507, 11.432639488933907, 11.432288097987144, 11.428372697949623, 11.434892780798888, 11.437662327674845, 11.445079319840914, 11.444803735168227, 11.430191143997261, 11.437017901798344] \n",
      " Min: 11.424098500994507  鄰居數為 43 個 \n",
      "\n"
     ]
    }
   ],
   "source": [
    "print('MAE:',list,'\\n','Min:',min(list),' 鄰居數為',list.index(min(list))*2+1,'個','\\n')\n",
    "print('MAPE: ',list2,'\\n','Min:',min(list2),' 鄰居數為',list.index(min(list))*2+1,'個','\\n')\n",
    "print('RMSE: ',list3,'\\n','Min:',min(list3),' 鄰居數為',list.index(min(list))*2+1,'個','\\n')"
   ]
  },
  {
   "cell_type": "markdown",
   "id": "77a6763e",
   "metadata": {},
   "source": [
    "# 刪除重要特徵"
   ]
  },
  {
   "cell_type": "code",
   "execution_count": 13,
   "id": "4186cf61",
   "metadata": {},
   "outputs": [],
   "source": [
    "x_train_attribute2 = x_train.drop(labels=['hours-per-week','fnlwgt','age','occupation'],axis=1)\n",
    "y_train_class2 = x_train['hours-per-week'].values\n",
    "\n",
    "x_test_attribute2 = x_test.drop(labels=['hours-per-week','fnlwgt','age','occupation'],axis=1)\n",
    "y_test_class2 = x_test['hours-per-week'].values"
   ]
  },
  {
   "cell_type": "code",
   "execution_count": 34,
   "id": "0d6c3f25",
   "metadata": {},
   "outputs": [
    {
     "name": "stdout",
     "output_type": "stream",
     "text": [
      "MAE: 7.074900398406374\n",
      "MAPE:  0.30437229630079476\n",
      "RMSE:  11.765385790055701\n"
     ]
    }
   ],
   "source": [
    "clf = KNeighborsClassifier(n_neighbors=43,weights = 'distance',algorithm = 'auto')\n",
    "clf.fit(x_train_attribute2,y_train_class2)\n",
    "y_pred001 = clf.predict(x_test_attribute2)\n",
    "print('MAE:',mean_absolute_error(y_test_class2,y_pred001))\n",
    "print('MAPE: ',mean_absolute_percentage_error(y_test_class2,y_pred001))\n",
    "print('RMSE: ',mean_squared_error(y_test_class2, y_pred001,squared=False))\n",
    " "
   ]
  },
  {
   "cell_type": "markdown",
   "id": "3b5c36d1",
   "metadata": {},
   "source": [
    "# 刪除不重要特徵"
   ]
  },
  {
   "cell_type": "code",
   "execution_count": 26,
   "id": "9a3095cb",
   "metadata": {},
   "outputs": [],
   "source": [
    "x_train_attribute3 = x_train.drop(labels=['hours-per-week','capital-gain','capital-loss','native-country'],axis=1)\n",
    "y_train_class3 = x_train['hours-per-week'].values\n",
    "\n",
    "x_test_attribute3 = x_test.drop(labels=['hours-per-week','capital-gain','capital-loss','native-country'],axis=1)\n",
    "y_test_class3 = x_test['hours-per-week'].values"
   ]
  },
  {
   "cell_type": "code",
   "execution_count": 35,
   "id": "3507d7f1",
   "metadata": {},
   "outputs": [
    {
     "name": "stdout",
     "output_type": "stream",
     "text": [
      "MAE: 7.485856573705179\n",
      "MAPE:  0.32448101271087954\n",
      "RMSE:  12.24066709550158\n"
     ]
    }
   ],
   "source": [
    "clf = KNeighborsClassifier(n_neighbors=43,weights = 'distance',algorithm = 'auto')\n",
    "clf.fit(x_train_attribute3,y_train_class3)\n",
    "y_pred002 = clf.predict(x_test_attribute3)\n",
    "print('MAE:',mean_absolute_error(y_test_class3,y_pred002))\n",
    "print('MAPE: ',mean_absolute_percentage_error(y_test_class3,y_pred002))\n",
    "print('RMSE: ',mean_squared_error(y_test_class3, y_pred002,squared=False))"
   ]
  },
  {
   "cell_type": "code",
   "execution_count": 38,
   "id": "6453f3c2",
   "metadata": {},
   "outputs": [],
   "source": [
    "comparison = {\n",
    "    'NAME':['原始資料預測','刪除特徵最大','刪除特徵最小'],\n",
    "    'MAE':[min(list),mean_absolute_error(y_test_class2,y_pred001),mean_absolute_error(y_test_class3,y_pred002)],\n",
    "    'MAPE':[min(list2),mean_absolute_percentage_error(y_test_class2,y_pred001),mean_absolute_percentage_error(y_test_class3,y_pred002)],\n",
    "    'RMSE':[min(list3),mean_squared_error(y_test_class2, y_pred001,squared=False),mean_squared_error(y_test_class3, y_pred002,squared=False)]\n",
    "}\n",
    "df001 = pd.DataFrame(comparison)"
   ]
  },
  {
   "cell_type": "code",
   "execution_count": 39,
   "id": "ebdce639",
   "metadata": {},
   "outputs": [
    {
     "data": {
      "text/html": [
       "<div>\n",
       "<style scoped>\n",
       "    .dataframe tbody tr th:only-of-type {\n",
       "        vertical-align: middle;\n",
       "    }\n",
       "\n",
       "    .dataframe tbody tr th {\n",
       "        vertical-align: top;\n",
       "    }\n",
       "\n",
       "    .dataframe thead th {\n",
       "        text-align: right;\n",
       "    }\n",
       "</style>\n",
       "<table border=\"1\" class=\"dataframe\">\n",
       "  <thead>\n",
       "    <tr style=\"text-align: right;\">\n",
       "      <th></th>\n",
       "      <th>NAME</th>\n",
       "      <th>MAE</th>\n",
       "      <th>MAPE</th>\n",
       "      <th>RMSE</th>\n",
       "    </tr>\n",
       "  </thead>\n",
       "  <tbody>\n",
       "    <tr>\n",
       "      <th>0</th>\n",
       "      <td>原始資料預測</td>\n",
       "      <td>6.801262</td>\n",
       "      <td>0.290072</td>\n",
       "      <td>11.424099</td>\n",
       "    </tr>\n",
       "    <tr>\n",
       "      <th>1</th>\n",
       "      <td>刪除特徵最大</td>\n",
       "      <td>7.074900</td>\n",
       "      <td>0.304372</td>\n",
       "      <td>11.765386</td>\n",
       "    </tr>\n",
       "    <tr>\n",
       "      <th>2</th>\n",
       "      <td>刪除特徵最小</td>\n",
       "      <td>7.485857</td>\n",
       "      <td>0.324481</td>\n",
       "      <td>12.240667</td>\n",
       "    </tr>\n",
       "  </tbody>\n",
       "</table>\n",
       "</div>"
      ],
      "text/plain": [
       "     NAME       MAE      MAPE       RMSE\n",
       "0  原始資料預測  6.801262  0.290072  11.424099\n",
       "1  刪除特徵最大  7.074900  0.304372  11.765386\n",
       "2  刪除特徵最小  7.485857  0.324481  12.240667"
      ]
     },
     "execution_count": 39,
     "metadata": {},
     "output_type": "execute_result"
    }
   ],
   "source": [
    "df001"
   ]
  },
  {
   "cell_type": "code",
   "execution_count": null,
   "id": "d97ebc4e",
   "metadata": {},
   "outputs": [],
   "source": []
  }
 ],
 "metadata": {
  "kernelspec": {
   "display_name": "Python 3 (ipykernel)",
   "language": "python",
   "name": "python3"
  },
  "language_info": {
   "codemirror_mode": {
    "name": "ipython",
    "version": 3
   },
   "file_extension": ".py",
   "mimetype": "text/x-python",
   "name": "python",
   "nbconvert_exporter": "python",
   "pygments_lexer": "ipython3",
   "version": "3.9.12"
  }
 },
 "nbformat": 4,
 "nbformat_minor": 5
}
