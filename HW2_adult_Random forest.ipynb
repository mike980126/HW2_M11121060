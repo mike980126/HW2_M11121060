{
 "cells": [
  {
   "cell_type": "code",
   "execution_count": 74,
   "id": "9ac12990",
   "metadata": {},
   "outputs": [],
   "source": [
    "import pandas as pd\n",
    "import numpy as np"
   ]
  },
  {
   "cell_type": "code",
   "execution_count": 75,
   "id": "fb5a4f28",
   "metadata": {},
   "outputs": [],
   "source": [
    "from sklearn.preprocessing import MinMaxScaler\n",
    "from sklearn.ensemble import RandomForestRegressor\n",
    "from sklearn.metrics import mean_absolute_error\n",
    "from sklearn.metrics import mean_squared_error\n",
    "from sklearn.metrics import mean_absolute_percentage_error\n",
    "from matplotlib import pyplot"
   ]
  },
  {
   "cell_type": "code",
   "execution_count": 76,
   "id": "93af95f8",
   "metadata": {},
   "outputs": [],
   "source": [
    "x_train = pd.read_csv(\"adult_train2.csv\")\n",
    "x_test = pd.read_csv(\"adult_test2.csv\")"
   ]
  },
  {
   "cell_type": "markdown",
   "id": "a905e23e",
   "metadata": {},
   "source": [
    "# 刪除特徵前"
   ]
  },
  {
   "cell_type": "code",
   "execution_count": 77,
   "id": "44da1f44",
   "metadata": {},
   "outputs": [],
   "source": [
    "x_train_feature = x_train.drop(labels=['Class'],axis=1)\n",
    "y_train_class = x_train['Class'].values\n",
    "#'education','marital-status','race','sex','native-country','Class'"
   ]
  },
  {
   "cell_type": "code",
   "execution_count": 78,
   "id": "c5dbd823",
   "metadata": {},
   "outputs": [
    {
     "data": {
      "text/html": [
       "<div>\n",
       "<style scoped>\n",
       "    .dataframe tbody tr th:only-of-type {\n",
       "        vertical-align: middle;\n",
       "    }\n",
       "\n",
       "    .dataframe tbody tr th {\n",
       "        vertical-align: top;\n",
       "    }\n",
       "\n",
       "    .dataframe thead th {\n",
       "        text-align: right;\n",
       "    }\n",
       "</style>\n",
       "<table border=\"1\" class=\"dataframe\">\n",
       "  <thead>\n",
       "    <tr style=\"text-align: right;\">\n",
       "      <th></th>\n",
       "      <th>age</th>\n",
       "      <th>workclass</th>\n",
       "      <th>fnlwgt</th>\n",
       "      <th>education</th>\n",
       "      <th>education-num</th>\n",
       "      <th>marital-status</th>\n",
       "      <th>occupation</th>\n",
       "      <th>relationship</th>\n",
       "      <th>race</th>\n",
       "      <th>sex</th>\n",
       "      <th>capital-gain</th>\n",
       "      <th>capital-loss</th>\n",
       "      <th>hours-per-week</th>\n",
       "      <th>native-country</th>\n",
       "    </tr>\n",
       "  </thead>\n",
       "  <tbody>\n",
       "    <tr>\n",
       "      <th>0</th>\n",
       "      <td>0.301370</td>\n",
       "      <td>0.833333</td>\n",
       "      <td>0.043338</td>\n",
       "      <td>0.600000</td>\n",
       "      <td>0.800000</td>\n",
       "      <td>0.666667</td>\n",
       "      <td>0.000000</td>\n",
       "      <td>0.2</td>\n",
       "      <td>1.0</td>\n",
       "      <td>1.0</td>\n",
       "      <td>0.021740</td>\n",
       "      <td>0.0</td>\n",
       "      <td>0.419355</td>\n",
       "      <td>0.95</td>\n",
       "    </tr>\n",
       "    <tr>\n",
       "      <th>1</th>\n",
       "      <td>0.452055</td>\n",
       "      <td>0.666667</td>\n",
       "      <td>0.047277</td>\n",
       "      <td>0.600000</td>\n",
       "      <td>0.800000</td>\n",
       "      <td>0.333333</td>\n",
       "      <td>0.230769</td>\n",
       "      <td>0.0</td>\n",
       "      <td>1.0</td>\n",
       "      <td>1.0</td>\n",
       "      <td>0.000000</td>\n",
       "      <td>0.0</td>\n",
       "      <td>0.129032</td>\n",
       "      <td>0.95</td>\n",
       "    </tr>\n",
       "    <tr>\n",
       "      <th>2</th>\n",
       "      <td>0.287671</td>\n",
       "      <td>0.333333</td>\n",
       "      <td>0.137244</td>\n",
       "      <td>0.733333</td>\n",
       "      <td>0.533333</td>\n",
       "      <td>0.000000</td>\n",
       "      <td>0.384615</td>\n",
       "      <td>0.2</td>\n",
       "      <td>1.0</td>\n",
       "      <td>1.0</td>\n",
       "      <td>0.000000</td>\n",
       "      <td>0.0</td>\n",
       "      <td>0.419355</td>\n",
       "      <td>0.95</td>\n",
       "    </tr>\n",
       "    <tr>\n",
       "      <th>3</th>\n",
       "      <td>0.493151</td>\n",
       "      <td>0.333333</td>\n",
       "      <td>0.150212</td>\n",
       "      <td>0.066667</td>\n",
       "      <td>0.400000</td>\n",
       "      <td>0.333333</td>\n",
       "      <td>0.384615</td>\n",
       "      <td>0.0</td>\n",
       "      <td>0.5</td>\n",
       "      <td>1.0</td>\n",
       "      <td>0.000000</td>\n",
       "      <td>0.0</td>\n",
       "      <td>0.419355</td>\n",
       "      <td>0.95</td>\n",
       "    </tr>\n",
       "    <tr>\n",
       "      <th>4</th>\n",
       "      <td>0.150685</td>\n",
       "      <td>0.333333</td>\n",
       "      <td>0.220703</td>\n",
       "      <td>0.600000</td>\n",
       "      <td>0.800000</td>\n",
       "      <td>0.333333</td>\n",
       "      <td>0.692308</td>\n",
       "      <td>1.0</td>\n",
       "      <td>0.5</td>\n",
       "      <td>0.0</td>\n",
       "      <td>0.000000</td>\n",
       "      <td>0.0</td>\n",
       "      <td>0.419355</td>\n",
       "      <td>0.10</td>\n",
       "    </tr>\n",
       "    <tr>\n",
       "      <th>...</th>\n",
       "      <td>...</td>\n",
       "      <td>...</td>\n",
       "      <td>...</td>\n",
       "      <td>...</td>\n",
       "      <td>...</td>\n",
       "      <td>...</td>\n",
       "      <td>...</td>\n",
       "      <td>...</td>\n",
       "      <td>...</td>\n",
       "      <td>...</td>\n",
       "      <td>...</td>\n",
       "      <td>...</td>\n",
       "      <td>...</td>\n",
       "      <td>...</td>\n",
       "    </tr>\n",
       "    <tr>\n",
       "      <th>30157</th>\n",
       "      <td>0.136986</td>\n",
       "      <td>0.333333</td>\n",
       "      <td>0.165563</td>\n",
       "      <td>0.466667</td>\n",
       "      <td>0.733333</td>\n",
       "      <td>0.333333</td>\n",
       "      <td>0.923077</td>\n",
       "      <td>1.0</td>\n",
       "      <td>1.0</td>\n",
       "      <td>0.0</td>\n",
       "      <td>0.000000</td>\n",
       "      <td>0.0</td>\n",
       "      <td>0.397849</td>\n",
       "      <td>0.95</td>\n",
       "    </tr>\n",
       "    <tr>\n",
       "      <th>30158</th>\n",
       "      <td>0.315068</td>\n",
       "      <td>0.333333</td>\n",
       "      <td>0.095589</td>\n",
       "      <td>0.733333</td>\n",
       "      <td>0.533333</td>\n",
       "      <td>0.333333</td>\n",
       "      <td>0.461538</td>\n",
       "      <td>0.0</td>\n",
       "      <td>1.0</td>\n",
       "      <td>1.0</td>\n",
       "      <td>0.000000</td>\n",
       "      <td>0.0</td>\n",
       "      <td>0.419355</td>\n",
       "      <td>0.95</td>\n",
       "    </tr>\n",
       "    <tr>\n",
       "      <th>30159</th>\n",
       "      <td>0.561644</td>\n",
       "      <td>0.333333</td>\n",
       "      <td>0.093914</td>\n",
       "      <td>0.733333</td>\n",
       "      <td>0.533333</td>\n",
       "      <td>1.000000</td>\n",
       "      <td>0.000000</td>\n",
       "      <td>0.8</td>\n",
       "      <td>1.0</td>\n",
       "      <td>0.0</td>\n",
       "      <td>0.000000</td>\n",
       "      <td>0.0</td>\n",
       "      <td>0.419355</td>\n",
       "      <td>0.95</td>\n",
       "    </tr>\n",
       "    <tr>\n",
       "      <th>30160</th>\n",
       "      <td>0.068493</td>\n",
       "      <td>0.333333</td>\n",
       "      <td>0.127620</td>\n",
       "      <td>0.733333</td>\n",
       "      <td>0.533333</td>\n",
       "      <td>0.666667</td>\n",
       "      <td>0.000000</td>\n",
       "      <td>0.6</td>\n",
       "      <td>1.0</td>\n",
       "      <td>1.0</td>\n",
       "      <td>0.000000</td>\n",
       "      <td>0.0</td>\n",
       "      <td>0.204301</td>\n",
       "      <td>0.95</td>\n",
       "    </tr>\n",
       "    <tr>\n",
       "      <th>30161</th>\n",
       "      <td>0.479452</td>\n",
       "      <td>0.500000</td>\n",
       "      <td>0.186383</td>\n",
       "      <td>0.733333</td>\n",
       "      <td>0.533333</td>\n",
       "      <td>0.333333</td>\n",
       "      <td>0.230769</td>\n",
       "      <td>1.0</td>\n",
       "      <td>1.0</td>\n",
       "      <td>0.0</td>\n",
       "      <td>0.150242</td>\n",
       "      <td>0.0</td>\n",
       "      <td>0.419355</td>\n",
       "      <td>0.95</td>\n",
       "    </tr>\n",
       "  </tbody>\n",
       "</table>\n",
       "<p>30162 rows × 14 columns</p>\n",
       "</div>"
      ],
      "text/plain": [
       "            age  workclass    fnlwgt  education  education-num  \\\n",
       "0      0.301370   0.833333  0.043338   0.600000       0.800000   \n",
       "1      0.452055   0.666667  0.047277   0.600000       0.800000   \n",
       "2      0.287671   0.333333  0.137244   0.733333       0.533333   \n",
       "3      0.493151   0.333333  0.150212   0.066667       0.400000   \n",
       "4      0.150685   0.333333  0.220703   0.600000       0.800000   \n",
       "...         ...        ...       ...        ...            ...   \n",
       "30157  0.136986   0.333333  0.165563   0.466667       0.733333   \n",
       "30158  0.315068   0.333333  0.095589   0.733333       0.533333   \n",
       "30159  0.561644   0.333333  0.093914   0.733333       0.533333   \n",
       "30160  0.068493   0.333333  0.127620   0.733333       0.533333   \n",
       "30161  0.479452   0.500000  0.186383   0.733333       0.533333   \n",
       "\n",
       "       marital-status  occupation  relationship  race  sex  capital-gain  \\\n",
       "0            0.666667    0.000000           0.2   1.0  1.0      0.021740   \n",
       "1            0.333333    0.230769           0.0   1.0  1.0      0.000000   \n",
       "2            0.000000    0.384615           0.2   1.0  1.0      0.000000   \n",
       "3            0.333333    0.384615           0.0   0.5  1.0      0.000000   \n",
       "4            0.333333    0.692308           1.0   0.5  0.0      0.000000   \n",
       "...               ...         ...           ...   ...  ...           ...   \n",
       "30157        0.333333    0.923077           1.0   1.0  0.0      0.000000   \n",
       "30158        0.333333    0.461538           0.0   1.0  1.0      0.000000   \n",
       "30159        1.000000    0.000000           0.8   1.0  0.0      0.000000   \n",
       "30160        0.666667    0.000000           0.6   1.0  1.0      0.000000   \n",
       "30161        0.333333    0.230769           1.0   1.0  0.0      0.150242   \n",
       "\n",
       "       capital-loss  hours-per-week  native-country  \n",
       "0               0.0        0.419355            0.95  \n",
       "1               0.0        0.129032            0.95  \n",
       "2               0.0        0.419355            0.95  \n",
       "3               0.0        0.419355            0.95  \n",
       "4               0.0        0.419355            0.10  \n",
       "...             ...             ...             ...  \n",
       "30157           0.0        0.397849            0.95  \n",
       "30158           0.0        0.419355            0.95  \n",
       "30159           0.0        0.419355            0.95  \n",
       "30160           0.0        0.204301            0.95  \n",
       "30161           0.0        0.419355            0.95  \n",
       "\n",
       "[30162 rows x 14 columns]"
      ]
     },
     "execution_count": 78,
     "metadata": {},
     "output_type": "execute_result"
    }
   ],
   "source": [
    "scaler = MinMaxScaler(feature_range=(0, 1)).fit(x_train_feature)\n",
    "x_scaled = scaler.transform(x_train_feature)\n",
    "x_train_final=pd.DataFrame(x_scaled,columns=x_train_feature.columns)\n",
    "x_train_final"
   ]
  },
  {
   "cell_type": "code",
   "execution_count": 52,
   "id": "f29db492",
   "metadata": {},
   "outputs": [],
   "source": [
    "x_test_feature = x_test.drop(labels=['Class'],axis=1)\n",
    "y_test_class = x_test['Class'].values"
   ]
  },
  {
   "cell_type": "code",
   "execution_count": 53,
   "id": "934297eb",
   "metadata": {},
   "outputs": [
    {
     "data": {
      "text/html": [
       "<div>\n",
       "<style scoped>\n",
       "    .dataframe tbody tr th:only-of-type {\n",
       "        vertical-align: middle;\n",
       "    }\n",
       "\n",
       "    .dataframe tbody tr th {\n",
       "        vertical-align: top;\n",
       "    }\n",
       "\n",
       "    .dataframe thead th {\n",
       "        text-align: right;\n",
       "    }\n",
       "</style>\n",
       "<table border=\"1\" class=\"dataframe\">\n",
       "  <thead>\n",
       "    <tr style=\"text-align: right;\">\n",
       "      <th></th>\n",
       "      <th>age</th>\n",
       "      <th>workclass</th>\n",
       "      <th>fnlwgt</th>\n",
       "      <th>education</th>\n",
       "      <th>education-num</th>\n",
       "      <th>marital-status</th>\n",
       "      <th>occupation</th>\n",
       "      <th>relationship</th>\n",
       "      <th>race</th>\n",
       "      <th>sex</th>\n",
       "      <th>capital-gain</th>\n",
       "      <th>capital-loss</th>\n",
       "      <th>hours-per-week</th>\n",
       "      <th>native-country</th>\n",
       "    </tr>\n",
       "  </thead>\n",
       "  <tbody>\n",
       "    <tr>\n",
       "      <th>0</th>\n",
       "      <td>0.109589</td>\n",
       "      <td>0.333333</td>\n",
       "      <td>0.144430</td>\n",
       "      <td>0.066667</td>\n",
       "      <td>0.400000</td>\n",
       "      <td>0.666667</td>\n",
       "      <td>0.461538</td>\n",
       "      <td>0.6</td>\n",
       "      <td>0.50</td>\n",
       "      <td>1.0</td>\n",
       "      <td>0.000000</td>\n",
       "      <td>0.0</td>\n",
       "      <td>0.443182</td>\n",
       "      <td>0.948718</td>\n",
       "    </tr>\n",
       "    <tr>\n",
       "      <th>1</th>\n",
       "      <td>0.287671</td>\n",
       "      <td>0.333333</td>\n",
       "      <td>0.051677</td>\n",
       "      <td>0.733333</td>\n",
       "      <td>0.533333</td>\n",
       "      <td>0.333333</td>\n",
       "      <td>0.307692</td>\n",
       "      <td>0.0</td>\n",
       "      <td>1.00</td>\n",
       "      <td>1.0</td>\n",
       "      <td>0.000000</td>\n",
       "      <td>0.0</td>\n",
       "      <td>0.556818</td>\n",
       "      <td>0.948718</td>\n",
       "    </tr>\n",
       "    <tr>\n",
       "      <th>2</th>\n",
       "      <td>0.150685</td>\n",
       "      <td>0.166667</td>\n",
       "      <td>0.219011</td>\n",
       "      <td>0.466667</td>\n",
       "      <td>0.733333</td>\n",
       "      <td>0.333333</td>\n",
       "      <td>0.769231</td>\n",
       "      <td>0.0</td>\n",
       "      <td>1.00</td>\n",
       "      <td>1.0</td>\n",
       "      <td>0.000000</td>\n",
       "      <td>0.0</td>\n",
       "      <td>0.443182</td>\n",
       "      <td>0.948718</td>\n",
       "    </tr>\n",
       "    <tr>\n",
       "      <th>3</th>\n",
       "      <td>0.369863</td>\n",
       "      <td>0.333333</td>\n",
       "      <td>0.099418</td>\n",
       "      <td>1.000000</td>\n",
       "      <td>0.600000</td>\n",
       "      <td>0.333333</td>\n",
       "      <td>0.461538</td>\n",
       "      <td>0.0</td>\n",
       "      <td>0.50</td>\n",
       "      <td>1.0</td>\n",
       "      <td>0.076881</td>\n",
       "      <td>0.0</td>\n",
       "      <td>0.443182</td>\n",
       "      <td>0.948718</td>\n",
       "    </tr>\n",
       "    <tr>\n",
       "      <th>4</th>\n",
       "      <td>0.232877</td>\n",
       "      <td>0.333333</td>\n",
       "      <td>0.125398</td>\n",
       "      <td>0.000000</td>\n",
       "      <td>0.333333</td>\n",
       "      <td>0.666667</td>\n",
       "      <td>0.538462</td>\n",
       "      <td>0.2</td>\n",
       "      <td>1.00</td>\n",
       "      <td>1.0</td>\n",
       "      <td>0.000000</td>\n",
       "      <td>0.0</td>\n",
       "      <td>0.329545</td>\n",
       "      <td>0.948718</td>\n",
       "    </tr>\n",
       "    <tr>\n",
       "      <th>...</th>\n",
       "      <td>...</td>\n",
       "      <td>...</td>\n",
       "      <td>...</td>\n",
       "      <td>...</td>\n",
       "      <td>...</td>\n",
       "      <td>...</td>\n",
       "      <td>...</td>\n",
       "      <td>...</td>\n",
       "      <td>...</td>\n",
       "      <td>...</td>\n",
       "      <td>...</td>\n",
       "      <td>...</td>\n",
       "      <td>...</td>\n",
       "      <td>...</td>\n",
       "    </tr>\n",
       "    <tr>\n",
       "      <th>15055</th>\n",
       "      <td>0.219178</td>\n",
       "      <td>0.333333</td>\n",
       "      <td>0.156895</td>\n",
       "      <td>0.600000</td>\n",
       "      <td>0.800000</td>\n",
       "      <td>0.666667</td>\n",
       "      <td>0.692308</td>\n",
       "      <td>0.6</td>\n",
       "      <td>1.00</td>\n",
       "      <td>1.0</td>\n",
       "      <td>0.000000</td>\n",
       "      <td>0.0</td>\n",
       "      <td>0.443182</td>\n",
       "      <td>0.948718</td>\n",
       "    </tr>\n",
       "    <tr>\n",
       "      <th>15056</th>\n",
       "      <td>0.301370</td>\n",
       "      <td>0.333333</td>\n",
       "      <td>0.136723</td>\n",
       "      <td>0.600000</td>\n",
       "      <td>0.800000</td>\n",
       "      <td>0.000000</td>\n",
       "      <td>0.692308</td>\n",
       "      <td>0.2</td>\n",
       "      <td>1.00</td>\n",
       "      <td>0.0</td>\n",
       "      <td>0.000000</td>\n",
       "      <td>0.0</td>\n",
       "      <td>0.397727</td>\n",
       "      <td>0.948718</td>\n",
       "    </tr>\n",
       "    <tr>\n",
       "      <th>15057</th>\n",
       "      <td>0.287671</td>\n",
       "      <td>0.333333</td>\n",
       "      <td>0.244762</td>\n",
       "      <td>0.600000</td>\n",
       "      <td>0.800000</td>\n",
       "      <td>0.333333</td>\n",
       "      <td>0.692308</td>\n",
       "      <td>0.0</td>\n",
       "      <td>1.00</td>\n",
       "      <td>1.0</td>\n",
       "      <td>0.000000</td>\n",
       "      <td>0.0</td>\n",
       "      <td>0.556818</td>\n",
       "      <td>0.948718</td>\n",
       "    </tr>\n",
       "    <tr>\n",
       "      <th>15058</th>\n",
       "      <td>0.369863</td>\n",
       "      <td>0.333333</td>\n",
       "      <td>0.047666</td>\n",
       "      <td>0.600000</td>\n",
       "      <td>0.800000</td>\n",
       "      <td>0.000000</td>\n",
       "      <td>0.000000</td>\n",
       "      <td>0.6</td>\n",
       "      <td>0.25</td>\n",
       "      <td>1.0</td>\n",
       "      <td>0.054551</td>\n",
       "      <td>0.0</td>\n",
       "      <td>0.443182</td>\n",
       "      <td>0.948718</td>\n",
       "    </tr>\n",
       "    <tr>\n",
       "      <th>15059</th>\n",
       "      <td>0.246575</td>\n",
       "      <td>0.500000</td>\n",
       "      <td>0.114195</td>\n",
       "      <td>0.600000</td>\n",
       "      <td>0.800000</td>\n",
       "      <td>0.333333</td>\n",
       "      <td>0.230769</td>\n",
       "      <td>0.0</td>\n",
       "      <td>1.00</td>\n",
       "      <td>1.0</td>\n",
       "      <td>0.000000</td>\n",
       "      <td>0.0</td>\n",
       "      <td>0.670455</td>\n",
       "      <td>0.948718</td>\n",
       "    </tr>\n",
       "  </tbody>\n",
       "</table>\n",
       "<p>15060 rows × 14 columns</p>\n",
       "</div>"
      ],
      "text/plain": [
       "            age  workclass    fnlwgt  education  education-num  \\\n",
       "0      0.109589   0.333333  0.144430   0.066667       0.400000   \n",
       "1      0.287671   0.333333  0.051677   0.733333       0.533333   \n",
       "2      0.150685   0.166667  0.219011   0.466667       0.733333   \n",
       "3      0.369863   0.333333  0.099418   1.000000       0.600000   \n",
       "4      0.232877   0.333333  0.125398   0.000000       0.333333   \n",
       "...         ...        ...       ...        ...            ...   \n",
       "15055  0.219178   0.333333  0.156895   0.600000       0.800000   \n",
       "15056  0.301370   0.333333  0.136723   0.600000       0.800000   \n",
       "15057  0.287671   0.333333  0.244762   0.600000       0.800000   \n",
       "15058  0.369863   0.333333  0.047666   0.600000       0.800000   \n",
       "15059  0.246575   0.500000  0.114195   0.600000       0.800000   \n",
       "\n",
       "       marital-status  occupation  relationship  race  sex  capital-gain  \\\n",
       "0            0.666667    0.461538           0.6  0.50  1.0      0.000000   \n",
       "1            0.333333    0.307692           0.0  1.00  1.0      0.000000   \n",
       "2            0.333333    0.769231           0.0  1.00  1.0      0.000000   \n",
       "3            0.333333    0.461538           0.0  0.50  1.0      0.076881   \n",
       "4            0.666667    0.538462           0.2  1.00  1.0      0.000000   \n",
       "...               ...         ...           ...   ...  ...           ...   \n",
       "15055        0.666667    0.692308           0.6  1.00  1.0      0.000000   \n",
       "15056        0.000000    0.692308           0.2  1.00  0.0      0.000000   \n",
       "15057        0.333333    0.692308           0.0  1.00  1.0      0.000000   \n",
       "15058        0.000000    0.000000           0.6  0.25  1.0      0.054551   \n",
       "15059        0.333333    0.230769           0.0  1.00  1.0      0.000000   \n",
       "\n",
       "       capital-loss  hours-per-week  native-country  \n",
       "0               0.0        0.443182        0.948718  \n",
       "1               0.0        0.556818        0.948718  \n",
       "2               0.0        0.443182        0.948718  \n",
       "3               0.0        0.443182        0.948718  \n",
       "4               0.0        0.329545        0.948718  \n",
       "...             ...             ...             ...  \n",
       "15055           0.0        0.443182        0.948718  \n",
       "15056           0.0        0.397727        0.948718  \n",
       "15057           0.0        0.556818        0.948718  \n",
       "15058           0.0        0.443182        0.948718  \n",
       "15059           0.0        0.670455        0.948718  \n",
       "\n",
       "[15060 rows x 14 columns]"
      ]
     },
     "execution_count": 53,
     "metadata": {},
     "output_type": "execute_result"
    }
   ],
   "source": [
    "scaler = MinMaxScaler(feature_range=(0, 1)).fit(x_test_feature)\n",
    "x_scaled = scaler.transform(x_test_feature)\n",
    "x_test_final=pd.DataFrame(x_scaled,columns=x_test_feature.columns)\n",
    "x_test_final"
   ]
  },
  {
   "cell_type": "code",
   "execution_count": 54,
   "id": "0414b545",
   "metadata": {},
   "outputs": [],
   "source": [
    "clf = RandomForestRegressor(n_estimators=1000,max_depth=10, bootstrap = True,random_state=42)\n",
    "clf.fit(x_train_final, y_train_class)\n",
    "y_pred = clf.predict(x_test_final)"
   ]
  },
  {
   "cell_type": "code",
   "execution_count": 55,
   "id": "37bf2b43",
   "metadata": {},
   "outputs": [
    {
     "name": "stdout",
     "output_type": "stream",
     "text": [
      "特徵重要程度:  [0.05896974 0.01424519 0.02886141 0.00553692 0.19974442 0.00254326\n",
      " 0.01993192 0.36495559 0.00259913 0.00256855 0.19445882 0.05807778\n",
      " 0.04297017 0.00453712]\n"
     ]
    }
   ],
   "source": [
    "print('特徵重要程度: ',clf.feature_importances_)"
   ]
  },
  {
   "cell_type": "code",
   "execution_count": 56,
   "id": "286fb826",
   "metadata": {},
   "outputs": [
    {
     "data": {
      "image/png": "[encoded data removed]",
      "text/plain": [
       "<Figure size 432x288 with 1 Axes>"
      ]
     },
     "metadata": {
      "needs_background": "light"
     },
     "output_type": "display_data"
    }
   ],
   "source": [
    "pyplot.bar(range(len(clf.feature_importances_)), clf.feature_importances_)\n",
    "pyplot.show()"
   ]
  },
  {
   "cell_type": "code",
   "execution_count": 58,
   "id": "40991554",
   "metadata": {},
   "outputs": [
    {
     "data": {
      "text/plain": [
       "<AxesSubplot:>"
      ]
     },
     "execution_count": 58,
     "metadata": {},
     "output_type": "execute_result"
    },
    {
     "data": {
      "image/png": "[encoded data removed]",
      "text/plain": [
       "<Figure size 432x288 with 1 Axes>"
      ]
     },
     "metadata": {
      "needs_background": "light"
     },
     "output_type": "display_data"
    }
   ],
   "source": [
    "(pd.Series(clf.feature_importances_, index=x_test_final.columns)\n",
    "   .nlargest(15)\n",
    "   .plot(kind='barh')) "
   ]
  },
  {
   "cell_type": "code",
   "execution_count": 59,
   "id": "e3fae83d",
   "metadata": {},
   "outputs": [
    {
     "name": "stdout",
     "output_type": "stream",
     "text": [
      "MAE:  0.2051777023624745\n"
     ]
    }
   ],
   "source": [
    "print('MAE: ',mean_absolute_error(y_test_class,y_pred))"
   ]
  },
  {
   "cell_type": "code",
   "execution_count": 61,
   "id": "229012f2",
   "metadata": {},
   "outputs": [
    {
     "name": "stdout",
     "output_type": "stream",
     "text": [
      "MAPE: 0.15286624147474057\n"
     ]
    }
   ],
   "source": [
    "print('MAPE:',mean_absolute_percentage_error(y_test_class,y_pred))"
   ]
  },
  {
   "cell_type": "code",
   "execution_count": 60,
   "id": "0d29cb25",
   "metadata": {},
   "outputs": [
    {
     "name": "stdout",
     "output_type": "stream",
     "text": [
      "RMSE: 0.3192443484063275\n"
     ]
    }
   ],
   "source": [
    "print('RMSE:',mean_squared_error(y_test_class,y_pred,squared=False))"
   ]
  },
  {
   "cell_type": "markdown",
   "id": "857a7f20",
   "metadata": {},
   "source": [
    "# 刪除重要特徵"
   ]
  },
  {
   "cell_type": "code",
   "execution_count": 79,
   "id": "d8da5a54",
   "metadata": {},
   "outputs": [],
   "source": [
    "x_train_feature2 = x_train_final.drop(labels=['relationship','education-num','capital-gain'],axis=1)\n",
    "y_train_class2 = x_train['Class'].values"
   ]
  },
  {
   "cell_type": "code",
   "execution_count": 80,
   "id": "3a1894d8",
   "metadata": {},
   "outputs": [],
   "source": [
    "x_test_feature2 = x_test_final.drop(labels=['relationship','education-num','capital-gain'],axis=1)\n",
    "y_test_class2 = x_test['Class'].values"
   ]
  },
  {
   "cell_type": "code",
   "execution_count": 70,
   "id": "1dec9411",
   "metadata": {},
   "outputs": [],
   "source": [
    "clf = RandomForestRegressor(n_estimators=1000,max_depth=10, bootstrap = True,random_state=42)\n",
    "clf.fit(x_train_feature2, y_train_class2)\n",
    "y_pred = clf.predict(x_test_feature2 )"
   ]
  },
  {
   "cell_type": "code",
   "execution_count": 71,
   "id": "55624d40",
   "metadata": {},
   "outputs": [
    {
     "name": "stdout",
     "output_type": "stream",
     "text": [
      "MAE:  0.23794343909478702\n"
     ]
    }
   ],
   "source": [
    "print('MAE: ',mean_absolute_error(y_test_class2,y_pred))"
   ]
  },
  {
   "cell_type": "code",
   "execution_count": 73,
   "id": "0d8968f0",
   "metadata": {},
   "outputs": [
    {
     "name": "stdout",
     "output_type": "stream",
     "text": [
      "MAPE: 0.17656333886689898\n"
     ]
    }
   ],
   "source": [
    "print('MAPE:',mean_absolute_percentage_error(y_test_class2,y_pred))"
   ]
  },
  {
   "cell_type": "code",
   "execution_count": 72,
   "id": "eb8cfe5b",
   "metadata": {},
   "outputs": [
    {
     "name": "stdout",
     "output_type": "stream",
     "text": [
      "RMSE: 0.34192747134068474\n"
     ]
    }
   ],
   "source": [
    "print('RMSE:',mean_squared_error(y_test_class2,y_pred,squared=False))"
   ]
  },
  {
   "cell_type": "markdown",
   "id": "37c724eb",
   "metadata": {},
   "source": [
    "# 刪除不重要特徵"
   ]
  },
  {
   "cell_type": "code",
   "execution_count": 86,
   "id": "7b0cef6b",
   "metadata": {},
   "outputs": [],
   "source": [
    "x_train_feature3 = x_train_feature.drop(labels=['marital-status','sex','race'],axis=1)\n",
    "y_train_class3 = x_train['Class'].values"
   ]
  },
  {
   "cell_type": "code",
   "execution_count": 87,
   "id": "0e710079",
   "metadata": {},
   "outputs": [],
   "source": [
    "x_test_feature3 = x_test_feature.drop(labels=['marital-status','sex','race'],axis=1)\n",
    "y_test_class3 = x_test['Class'].values"
   ]
  },
  {
   "cell_type": "code",
   "execution_count": 89,
   "id": "7f9f1973",
   "metadata": {},
   "outputs": [],
   "source": [
    "clf = RandomForestRegressor(n_estimators=1000,max_depth=10, bootstrap = True,random_state=42)\n",
    "clf.fit(x_train_feature3, y_train_class3)\n",
    "y_pred = clf.predict(x_test_feature3)"
   ]
  },
  {
   "cell_type": "code",
   "execution_count": 90,
   "id": "f91766ff",
   "metadata": {},
   "outputs": [
    {
     "name": "stdout",
     "output_type": "stream",
     "text": [
      "MAE:  0.20026911475551637\n",
      "MAPE: 0.15048443236818135\n",
      "RMSE: 0.3167001753402388\n"
     ]
    }
   ],
   "source": [
    "print('MAE: ',mean_absolute_error(y_test_class2,y_pred))\n",
    "print('MAPE:',mean_absolute_percentage_error(y_test_class2,y_pred))\n",
    "print('RMSE:',mean_squared_error(y_test_class2,y_pred,squared=False))"
   ]
  },
  {
   "cell_type": "code",
   "execution_count": null,
   "id": "7142a866",
   "metadata": {},
   "outputs": [],
   "source": []
  }
 ],
 "metadata": {
  "kernelspec": {
   "display_name": "Python 3 (ipykernel)",
   "language": "python",
   "name": "python3"
  },
  "language_info": {
   "codemirror_mode": {
    "name": "ipython",
    "version": 3
   },
   "file_extension": ".py",
   "mimetype": "text/x-python",
   "name": "python",
   "nbconvert_exporter": "python",
   "pygments_lexer": "ipython3",
   "version": "3.9.12"
  }
 },
 "nbformat": 4,
 "nbformat_minor": 5
}
